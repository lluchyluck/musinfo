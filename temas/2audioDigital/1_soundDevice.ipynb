{
 "cells": [
  {
   "cell_type": "markdown",
   "metadata": {
    "slideshow": {
     "slide_type": "slide"
    }
   },
   "source": [
    "# Dónde estamos?\n",
    "\n",
    "### Ya sabemos generar sonidos en Python!\n",
    "\n",
    "### Sonido digital = secuencia de números (muestras o samples)\n",
    "\n",
    "\n",
    "<br><br>\n",
    "\n",
    "\n",
    "<center>\n",
    "<img src=\"media/noise-code.png\" width=80% />\n",
    "</center>\n",
    "\n",
    "<br><br>\n",
    "\n",
    "\n",
    "\n",
    "<center>\n",
    "<img src=\"media/sin-code.png\" width=80% />\n",
    "</center>\n",
    "\n"
   ]
  },
  {
   "cell_type": "markdown",
   "metadata": {
    "slideshow": {
     "slide_type": "slide"
    }
   },
   "source": [
    "## Solo nos falta que suenen...\n",
    "\n",
    "<center>\n",
    "<img src=\"media/pyaudio.png\" width=80% />\n",
    "</center>\n",
    "\n",
    "\n"
   ]
  },
  {
   "cell_type": "markdown",
   "metadata": {
    "slideshow": {
     "slide_type": "slide"
    }
   },
   "source": [
    "\n",
    "### Nos interesará:\n",
    "\n",
    "\n",
    "- <font color='darkgreen'>Grabar</font>: recoger el sonido\n",
    "    (**muestrear**, ADC) con una tarjeta de sonido y almacenarlo en formato digital\n",
    "\n",
    "- <font color='darkgreen'>Reproducir</font>: enviar las muestras a la tarjeta de sonido (DAC)\n",
    "\n",
    "- <font color='darkgreen'>Generar</font>: producir muestras mediante algoritmos $\\leadsto$ síntesis digital de sonido\n",
    "\n",
    "\n",
    "- <font color='darkgreen'>Procesar</font>: transformar las muestras mediante algoritmos (DSP, mezcla)\n",
    "\n"
   ]
  },
  {
   "cell_type": "markdown",
   "metadata": {
    "slideshow": {
     "slide_type": "slide"
    }
   },
   "source": [
    "##### Para ello utilizaremos las librerías: \n",
    "\n",
    "- numpy: arrays eficientes no utilizar listas Python para las muestras!\n",
    "  \n",
    "  - scipy: para algoritmos específicos de procesamiento de audio\n",
    "\n",
    "- <font color='darkgreen'>**sounddevice**</font>: mapping (bindings) en Python de la librería **PortAudio**\n",
    "  (entrada/salida de audio multiplataforma)\n",
    "\n",
    "- <font color='darkgreen'>**soundfile**</font>: carga y guardado de archivos de sonido\n"
   ]
  },
  {
   "cell_type": "markdown",
   "metadata": {},
   "source": [
    "# Un reproductor básico"
   ]
  },
  {
   "cell_type": "code",
   "execution_count": null,
   "metadata": {
    "slideshow": {
     "slide_type": "slide"
    }
   },
   "outputs": [],
   "source": [
    "# Reproductor básico\n",
    "\n",
    "import numpy as np         # arrays    \n",
    "import sounddevice as sd   # modulo de conexión con portAudio\n",
    "import soundfile as sf     # para lectura/escritura de wavs\n",
    "\n",
    "# leemos wav: data (array numpy con samples y SRATE)\n",
    "# por defecto lee en formato dtype=\"float64\" \n",
    "# En reproducción simple hace conversiones internas,\n",
    "# pero en general haremos conversión explícita a np.float32, con dtype=np.float32\n",
    "data, SRATE = sf.read('media/ex1.wav')  \n",
    "\n",
    "# informacion de wav\n",
    "print(\"\\n\\nInfo del wav \" )\n",
    "print(\"  Sample rate \", SRATE)  # leído del archivo\n",
    "print(\"  Sample format: \", data.dtype)\n",
    "print(\"  Num channels: \", len(data.shape))\n",
    "print(\"  Len: \", data.shape[0])\n",
    "  \n",
    "# bajamos volumen: operación en numpy\n",
    "data = data * 0.5\n",
    "\n",
    "# a reproducir!\n",
    "sd.play(data, SRATE)\n",
    "\n",
    "# bloqueamos la ejecución hasta que acabe la reproducción\n",
    "sd.wait()"
   ]
  },
  {
   "cell_type": "markdown",
   "metadata": {
    "slideshow": {
     "slide_type": "slide"
    }
   },
   "source": [
    "# Buffering: procesamiento por **chunks**\n",
    "\n",
    "El player anterior lee todos los datos de golpe y los envía al stream,\n",
    "**bloqueando** el proceso de ejecución $\\leadsto$ no se pueden manipular las muestras durante la reproducción\n",
    "\n",
    "- Por ejemplo, no se puede modificar el volumen una vez arrancada la reproducción.\n",
    "\n",
    "\n",
    "\n",
    "## Solución: envío por bloques (chunks)\n",
    "\n",
    "<center>\n",
    "<img src=\"media/chunks.png\" width=\"50%\" />\n",
    "</center>\n",
    "\n",
    "\n",
    "Los chunks son bloques (arrays de numpy) de tamaño prefijado que se leen/procesan/envían secuencialmente de uno en uno a sounddevice"
   ]
  },
  {
   "cell_type": "code",
   "execution_count": null,
   "metadata": {
    "slideshow": {
     "slide_type": "slide"
    }
   },
   "outputs": [],
   "source": [
    "import numpy as np         # arrays    \n",
    "import sounddevice as sd   # modulo de conexión con portAudio\n",
    "import soundfile as sf     # para lectura/escritura de wavs\n",
    "CHUNK = 2048   # tamaño CHUNK o bloque\n",
    "\n",
    "# Leemos wav. Por defecto lee float64: no soportado por portAudio, \n",
    "# Convertimos directamente la conversion a float32\n",
    "data, SRATE = sf.read('media/ex1.wav',dtype=np.float32)\n",
    "\n",
    "# stream de salida\n",
    "stream = sd.OutputStream( # creamos stream \n",
    "    samplerate = SRATE,            # frec de muestreo \n",
    "    blocksize  = CHUNK,            # tamaño del bloque\n",
    "    channels   = len(data.shape))  # num de canales\n",
    "stream.start() # arrancamos stream\n",
    "\n",
    "prog = ['-','\\\\','|','/'] # para decorar\n",
    "vol = 0.5      # volumen\n",
    "numBloque = 0  # contador de bloques\n",
    "end = False # para detección de últimol chunck \n",
    "\n",
    "while not(end): \n",
    "    # slice de data (no copia!). Si no hay suficientes samples, extrae los que queden\n",
    "    bloque = data[numBloque*CHUNK : (numBloque+1)*CHUNK]\n",
    "    \n",
    "    if bloque.shape[0]<CHUNK: # ultimo bloque? -> se hace esta vuelta del bucle y terminamos\n",
    "        end = True \n",
    "    \n",
    "    bloque *= vol # modificamos volumen del bloque en cada vuelta del bucle!\n",
    "\n",
    "    stream.write(bloque) # escribimos al stream de sounddevice\n",
    "    \n",
    "    numBloque += 1    \n",
    "    print(f'\\rProgreso: {prog[numBloque%4]}   bloque: {numBloque}',end='')\n",
    "\n",
    "print(f'\\nÚltimo bloque: {bloque.shape[0]} samples')\n",
    "stream.stop()  # cerramos stream\n",
    "stream.close() \n"
   ]
  },
  {
   "cell_type": "markdown",
   "metadata": {
    "slideshow": {
     "slide_type": "slide"
    }
   },
   "source": [
    "#### Interacción en tiempo real\n",
    "\n",
    "Por ejemplo: modificar el volumen mientras suena\n",
    "\n",
    "- Leeremos input de teclado \n",
    "\n",
    "- La lectura de teclado *sencilla* es **bloqueante**"
   ]
  },
  {
   "cell_type": "code",
   "execution_count": null,
   "metadata": {
    "slideshow": {
     "slide_type": "fragment"
    }
   },
   "outputs": [],
   "source": [
    "x = input(\"Nombre: \") # bloquea ejecución hasta pulsación de intro\n",
    "print(f\"Te llamas {x}\")"
   ]
  },
  {
   "cell_type": "markdown",
   "metadata": {
    "slideshow": {
     "slide_type": "fragment"
    }
   },
   "source": [
    "### Opciones para **lectura no bloqueante en Python**:\n",
    "\n",
    "- Con widgets de los notebooks (*ipywidgets*), a través de botones, sliders, etc \n",
    "\n",
    "    - Exige introducir bastante código adicional...\n",
    "    - Poco útil fuera de los notebooks\n",
    "\n",
    "- Con librerías específicas de Windows, Linux (no multiplataforma)\n",
    "\n",
    "- Clase basada en la librería **pygame** (abre una ventana emergente que que lee input y lo devuelve con el método *getKey()*)\n",
    "\n",
    "- Librería TKInter (similar al anterior, lo utilizaremos más adelante)\n",
    "\n",
    "- Con una clase para trabajar directamente en terminal (multiplaforma): https://github.com/simondlevy/kbhit\n",
    "\n",
    "#### En este notebook vamos a utilizar esta última por simplicidad... pero no funciona en los notebooks!!\n",
    "\n",
    "- Utilizamos el clase KBHit del módulo kbhit (disponible en el CV o en https://github.com/simondlevy/kbhit)\n",
    "\n",
    "- Pero ejecutamos fuera del notebook (como programa independiente). Para ello escribimos la celda en un archivo con la directiva \n",
    "    \n",
    "    ```%%writefile file.py```\n",
    "\n",
    "    guarda el código de esa celda en el archivo ```file.py```\n",
    "\n",
    "- Luego ejecutamos ```file.py``` desde terminal o vs code    \n"
   ]
  },
  {
   "cell_type": "markdown",
   "metadata": {
    "slideshow": {
     "slide_type": "slide"
    }
   },
   "source": [
    "## Player con control volumen: \n",
    "\n",
    "### Procesamiento por chunks + interacción de teclado"
   ]
  },
  {
   "cell_type": "code",
   "execution_count": null,
   "metadata": {
    "slideshow": {
     "slide_type": "fragment"
    }
   },
   "outputs": [],
   "source": [
    "%%writefile playerVol.py\n",
    "\n",
    "import numpy as np         \n",
    "import sounddevice as sd   \n",
    "import soundfile as sf     \n",
    "import kbhit # para lectura no bloqueante de teclado\n",
    "\n",
    "CHUNK = 1024 # tamaño del chunk\n",
    "\n",
    "data, SRATE = sf.read('media/ex1.wav',dtype=np.float32)\n",
    "\n",
    "stream = sd.OutputStream(samplerate = SRATE, blocksize = CHUNK, channels = len(data.shape))\n",
    "stream.start()\n",
    "\n",
    "# para leer teclado\n",
    "kb = kbhit.KBHit()\n",
    "\n",
    "vol = 1.0\n",
    "numBloque = 0 # contador de bloques/chunks\n",
    "end = False # será true cuando el chunk esté incompleto o se pare la reproducción\n",
    "\n",
    "while not(end): \n",
    "    bloque = data[numBloque*CHUNK : (numBloque+1)*CHUNK]\n",
    "    if bloque.size<CHUNK: end = True # ultimo bloque?\n",
    "    bloque *= vol # aplicamos volumen\n",
    "    stream.write(bloque) # escribimos al stream\n",
    "\n",
    "    if kb.kbhit():\n",
    "        c = kb.getch()  # variacion de volumen/abortar\n",
    "        if c != '':        \n",
    "            if (c=='v'): vol= max(0,vol-0.05)\n",
    "            elif (c=='V'): vol= min(1,vol+0.05)\n",
    "            elif c in ['q','escape']: end = True \n",
    "            print(f\"\\rVol: {vol:.2f}     bloque: {numBloque}\",end='')\n",
    "    numBloque += 1\n",
    "    \n",
    "kb.set_normal_term()\n",
    "stream.stop()\n",
    "stream.close()"
   ]
  },
  {
   "cell_type": "markdown",
   "metadata": {
    "slideshow": {
     "slide_type": "slide"
    }
   },
   "source": [
    "# Grabación básica"
   ]
  },
  {
   "cell_type": "code",
   "execution_count": null,
   "metadata": {
    "slideshow": {
     "slide_type": "fragment"
    }
   },
   "outputs": [],
   "source": [
    "%%writefile record.py\n",
    "\n",
    "\n",
    "import numpy as np         \n",
    "import sounddevice as sd   \n",
    "import soundfile as sf     \n",
    "import kbhit \n",
    "\n",
    "SRATE = 48000 # frecuencia de muestreo\n",
    "CHUNK = 1024  # tamaño del bloque\n",
    "\n",
    "# abrimos stream de entrada: InpuStream\n",
    "stream = sd.InputStream(samplerate=SRATE, blocksize=CHUNK, dtype=np.float32, channels=1)\n",
    "stream.start()\n",
    "\n",
    "# buffer para grabación. \n",
    "# (0,1): vacio (tamaño 0), 1 canal\n",
    "buffer = np.empty((0, 1), dtype=\"float32\")\n",
    "\n",
    "kb = kbhit.KBHit()\n",
    "c = ''\n",
    "\n",
    "print('Grabando. Pulsa \\'q\\' para terminar')\n",
    "# bucle de grabación\n",
    "while c != 'q': \n",
    "     # recogida de samples en array \n",
    "    bloque, _check = stream.read(CHUNK) # devuelve un par (samples,bool)    \n",
    "    buffer = np.append(buffer,bloque) # en bloque[0] están los samples\n",
    "    if kb.kbhit(): \n",
    "        c = kb.getch()\n",
    "        print(c)\n",
    "    \n",
    "\n",
    "stream.stop() \n",
    "kb.set_normal_term()\n",
    "\n",
    "\n",
    "# reproducción del buffer adquirido\n",
    "c = input('Quieres reproducir [S/n]? ')\n",
    "if c!='n':\n",
    "    sd.play(buffer, SRATE)\n",
    "    sd.wait()\n",
    "\n",
    "# volcado a un archivo wav, utilizando la librería soundfile \n",
    "c = input('Grabar a archivo [S/n]? ')\n",
    "if c!='n':    \n",
    "    sf.write(\"rec.wav\", buffer, SRATE)\n",
    "\n",
    "stream.stop()\n",
    "stream.close()\n"
   ]
  },
  {
   "cell_type": "markdown",
   "metadata": {
    "slideshow": {
     "slide_type": "slide"
    }
   },
   "source": [
    "# Hebras de ejecución, CallBacks\n",
    "\n",
    "En todos los ejemplos anteriores, la llamada `stream.write(...`\n",
    "\n",
    "- sigue siendo \"algo\" <span style='color:darkgreen'>**bloqueante**</span>: bloquea la ejecución hasta que se completa el envío de datos al flujo\n",
    "\n",
    "   $\\leadsto$ tenemos control *a intervalos*: podemos interactuar entre\n",
    "    envíos de bloques, p.e., para variar el volumen durante la\n",
    "    reproducción\n",
    "\n",
    "- En general la versión que tenemos ya es suficiente para muchas aplicaciones    \n",
    "\n",
    "Una opción para tener más control: crear una nueva <font color='darkgreen'>**hebra de ejecución**</font> con la reproducción para no tener ningún bloqueo! \n",
    "\n",
    "- Aun así... la variación de volumen tiene efecto entre CHUNKS\n",
    "\n",
    "### Sounddevice ya gestiona las hebras!"
   ]
  },
  {
   "cell_type": "code",
   "execution_count": null,
   "metadata": {
    "slideshow": {
     "slide_type": "fragment"
    }
   },
   "outputs": [],
   "source": [
    "# stream de salida con callBack\n",
    "stream = sd.OutputStream(\n",
    "  samplerate = SRATE, \n",
    "  channels = len(data.shape),\n",
    "  blocksize = CHUNK, \n",
    "  callback = callback) # función callback se llama bajo demanda de chunks"
   ]
  },
  {
   "cell_type": "markdown",
   "metadata": {
    "slideshow": {
     "slide_type": "fragment"
    }
   },
   "source": [
    "$\\leadsto$ se invoca a la función **callback** cuando el stream demanda nuevo audio para reproducir\n"
   ]
  },
  {
   "cell_type": "markdown",
   "metadata": {
    "slideshow": {
     "slide_type": "slide"
    }
   },
   "source": [
    "## La función *callback*\n",
    "\n",
    "Prototipo:\n",
    "\n",
    "```python\n",
    "callback(outdata,      # datos de salida\n",
    "         frames,       # num nBloques a procesar por el stream = len de outdata\n",
    "         time_info,    # estructura con current_frame_frameTime, etc\n",
    "         status_flags) \n",
    "```             \n",
    "\n",
    "En la práctica, lo esencial es: \n",
    "\n",
    "- *rellenar* `outdata` con los samples de salida (no crear un nuevo vector!) y\n",
    "\n",
    "- tener cuidado con el *shape* del array que se copia a `outdata`: espera el formato  *(frames, channels)* \n",
    "    - En mono, numpy generar array con formato *(n,)* y hay que convertir a *(n,1)* con *reshape*:\n",
    "    \n",
    "        ```if (len(data.shape)==1): data = np.reshape(data,(data.shape[0],1))```\n",
    "\n",
    "Menos esencial:\n",
    "\n",
    "- `frames` el número de frames = long de `outdata` = `CHUNK`\n",
    "\n",
    "-   `time_info`: contiene `input_buffer_adc_time`,\n",
    "    `current_frame_time` y `output_buffer_dac_time` (ver documentación de PortAudio)\n",
    "-   `status_flags` (ver documentación de PortAudio)\n",
    "\n"
   ]
  },
  {
   "cell_type": "markdown",
   "metadata": {
    "slideshow": {
     "slide_type": "slide"
    }
   },
   "source": [
    "# Reproductor con callback\n"
   ]
  },
  {
   "cell_type": "code",
   "execution_count": null,
   "metadata": {
    "slideshow": {
     "slide_type": "fragment"
    }
   },
   "outputs": [],
   "source": [
    "%%writefile playCB.py\n",
    "\n",
    "\n",
    "import numpy as np         \n",
    "import sounddevice as sd   \n",
    "import soundfile as sf     \n",
    "import kbhit               \n",
    "\n",
    "CHUNK = 2048\n",
    "data, SRATE = sf.read('media/ex1.wav',dtype=np.float32)\n",
    "\n",
    "# para archivos mono, devuelve un array de la forma data.shape = (n,)\n",
    "# para rellenar el array outdata del callback se necesita hacer explícito el número de canales\n",
    "# convertir el data.shape  (n,) -> (n,1) \n",
    "if (len(data.shape)==1): data = np.reshape(data,(data.shape[0],1))\n",
    "# otra forma data = data.reshape(-1, 1)\n",
    "\n",
    "# info del wav\n",
    "print(f\"SRATE: {SRATE}   Format: {data.dtype}   Channels: {len(data.shape)}    Len: {data.shape[0]}\")\n",
    "\n",
    "\n",
    "# contador de frames, global\n",
    "current_frame = 0\n",
    "def callback(outdata, frames, time, status):\n",
    "    global current_frame       # para actualizarlo en cada callBack\n",
    "    if status: print(status)\n",
    "\n",
    "    # ojo, este print es muy lento... puede provocar underruns\n",
    "    print(f\"\\rNum Bloque: {current_frame//CHUNK}  frame: {current_frame}\", end='') \n",
    "\n",
    "    # escribimos los samples correspondientes en el outdata que viene dado\n",
    "    bloque = data[current_frame : current_frame+CHUNK]\n",
    "    # print(f'shape[0]: {bloque.shape},   pad: {CHUNK-bloque.shape[0]}')\n",
    "\n",
    "    # tamaño del blque leido\n",
    "    chunksize = bloque.shape[0]\n",
    "\n",
    "    outdata[:chunksize] = bloque            \n",
    "    # es una forma EFICINTE de rellenar outdata, copiando los samples del bloque \n",
    "    # Es similar a \n",
    "    #   for i in range(chunksize): outdata[i] = bloque[i]\n",
    "    # pero este es for es demasiado lento (es un for de python)-> underruns!!\n",
    "\n",
    "    # NO funcionaría hacer outdata = data[current_frame:current_frame + chunksize]\n",
    "    # compartiría referencias (objetos array de numpy)\n",
    "    # outdata viene dado y hay que rellenar su contenido\n",
    "\n",
    "    \n",
    "    if chunksize < frames: # ha terminado?\n",
    "        print('fin')\n",
    "        outdata[chunksize:] = 0 # rellenamos con 0's el resto de outdata\n",
    "        raise sd.CallbackStop()\n",
    "\n",
    "    # actualizamos frame con los frames procesados    \n",
    "    current_frame += chunksize\n",
    "\n",
    "\n",
    "# stream de salida con callBack\n",
    "stream = sd.OutputStream(samplerate=SRATE, channels=len(data.shape),\n",
    "    callback=callback, blocksize=CHUNK)\n",
    "stream.start()\n",
    "\n",
    "# con esto empezaría a reproducir, pero si la hebra ppal termina, se para la reproducción\n",
    "# Necesitamos mantener viva esta hebra\n",
    "\n",
    "kb = kbhit.KBHit()\n",
    "c = '' \n",
    "while c not in ['q']: # para bloquear ejecución en la hebra ppal mientras reproduce\n",
    "    if kb.kbhit():\n",
    "        c = kb.getch()\n",
    "\n",
    "\n",
    "# limpieza\n",
    "kb.normal_term()\n",
    "stream.stop()\n",
    "stream.close()"
   ]
  },
  {
   "cell_type": "markdown",
   "metadata": {
    "slideshow": {
     "slide_type": "slide"
    }
   },
   "source": [
    "## Entendiendo el array `outdata`?\n",
    "\n",
    "Hay que copiar `CHUNK` muestras de `data` en`outdata`, rellenando el `outdata` que viene dado, sin generar un nuevo array"
   ]
  },
  {
   "cell_type": "code",
   "execution_count": 6,
   "metadata": {
    "slideshow": {
     "slide_type": "fragment"
    }
   },
   "outputs": [
    {
     "name": "stdout",
     "output_type": "stream",
     "text": [
      "Inicialmente (antes de llamar a next)\n",
      "data: [0. 1. 2. 3. 4. 5.]\n",
      "outdata:  [0. 0. 0. 0. 0.]\n"
     ]
    }
   ],
   "source": [
    "# mini ejemplo para ver la copia de muestras\n",
    "\n",
    "import numpy as np\n",
    "CHUNK = 5\n",
    "\n",
    "\n",
    "# next es un # \"iterador\" que va dando sucesivos chunks\n",
    "# en cada llamada\n",
    "current_frame = 0\n",
    "def next(outdata): \n",
    "    global current_frame \n",
    "\n",
    "    # nuevo bloque de tamaño CHUNK (si queda suficiente)\n",
    "    bloque = data[current_frame:current_frame+CHUNK]\n",
    "\n",
    "    # vemos lo que ha cogido\n",
    "    size = bloque.shape[0]\n",
    "\n",
    "    # y lo ponemos en outdata, al principio\n",
    "    outdata[:size] = data[current_frame:current_frame+size]\n",
    "    current_frame += size\n",
    "\n",
    "    # si out no está completo, relleamos con 0s\n",
    "    if size<CHUNK:\n",
    "        outdata[size:] = 0\n",
    "        print('FIN')\n",
    "\n",
    "# data con 6 eltos [0..5]\n",
    "data = np.arange(6,dtype=np.float32)\n",
    "\n",
    "# outdata de tamaño CHUNK (5), con ceros\n",
    "outdata = np.zeros(CHUNK)\n",
    "\n",
    "print('Inicialmente (antes de llamar a next)')\n",
    "print('data:',data)\n",
    "print('outdata: ',outdata)\n"
   ]
  },
  {
   "cell_type": "code",
   "execution_count": 8,
   "metadata": {
    "slideshow": {
     "slide_type": "fragment"
    }
   },
   "outputs": [
    {
     "name": "stdout",
     "output_type": "stream",
     "text": [
      "FIN\n",
      "[5. 0. 0. 0. 0.]\n"
     ]
    }
   ],
   "source": [
    "\n",
    "# ahora ejecutar sucesivas veces\n",
    "# outdata es siempre el mismo array que se va rellenando con sucesivos slices (copias)\n",
    "next(outdata)\n",
    "print(outdata)\n"
   ]
  },
  {
   "cell_type": "markdown",
   "metadata": {
    "slideshow": {
     "slide_type": "slide"
    }
   },
   "source": [
    "# Grabación con callBack (incluso más fácil)"
   ]
  },
  {
   "cell_type": "code",
   "execution_count": null,
   "metadata": {
    "slideshow": {
     "slide_type": "subslide"
    }
   },
   "outputs": [],
   "source": [
    "# buffer para acumular grabación.\n",
    "# (0,1): de tamao 0 (vacío), y con 1 canal \n",
    "buffer = np.empty((0, 1), dtype=np.float32)\n",
    "\n",
    "def callback(indata, frames, time, status):\n",
    "    global buffer\n",
    "    # concatenamos indata al buffer\n",
    "    buffer = np.append(buffer,indata)\n",
    "\n",
    "# stream de entrada con callBack\n",
    "stream = sd.InputStream(\n",
    "    samplerate=SRATE, dtype=np.float32,  channels=CHANNELS,\n",
    "    blocksize=CHUNK, callback=callback)\n"
   ]
  }
 ],
 "metadata": {
  "kernelspec": {
   "display_name": "Python 3",
   "language": "python",
   "name": "python3"
  },
  "language_info": {
   "codemirror_mode": {
    "name": "ipython",
    "version": 3
   },
   "file_extension": ".py",
   "mimetype": "text/x-python",
   "name": "python",
   "nbconvert_exporter": "python",
   "pygments_lexer": "ipython3",
   "version": "3.10.12"
  }
 },
 "nbformat": 4,
 "nbformat_minor": 2
}
