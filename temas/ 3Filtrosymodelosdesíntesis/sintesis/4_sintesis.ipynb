{
 "cells": [
  {
   "cell_type": "code",
   "execution_count": null,
   "metadata": {},
   "outputs": [],
   "source": [
    "%%writefile consts.py\n",
    "\n",
    "import numpy as np         # arrays    \n",
    "import sounddevice as sd   # modulo de conexión con portAudio\n",
    "import soundfile as sf     # para lectura/escritura de wavs\n",
    "import matplotlib.pyplot as plt # dibujos\n",
    "\n",
    "SRATE, CHUNK = 48000, 1024"
   ]
  },
  {
   "cell_type": "markdown",
   "metadata": {
    "slideshow": {
     "slide_type": "slide"
    }
   },
   "source": [
    "# Modelos de **Síntesis** digital\n"
   ]
  },
  {
   "cell_type": "markdown",
   "metadata": {
    "slideshow": {
     "slide_type": "slide"
    }
   },
   "source": [
    "# Síntesis analógica/digital\n",
    "\n",
    "**Sintetizador**: dispositivo electrónico\n",
    "de generación de sonido ...\n",
    "\n",
    "- Antes de los ordenadores:\n",
    "\n",
    "    osciladores analógicos, Telharmonium (síntesis aditiva), órgano Hammond, *Theremin*, ondas Martenot, (síntesis sustractiva), sintetizador Moog (síntesis modular).. \n",
    "\n",
    "---\n",
    "\n",
    "- Después llegaron los ordenadores, síntesis digital:\n",
    "\n",
    "    $\\leadsto$ algoritmos para la generación de muestras de sonido\n",
    "\n",
    "\n",
    "    - Emulación de las técnicas de los sintes analógicos precedentes.\n",
    "\n",
    "    - pero además... nuevas posibilidades\n",
    "\n",
    "    Prophet-5, Yamaha GS-1 (síntesis FM),  **Yamaha DX7** (FM), Roland D-50 (*sampler*), ..."
   ]
  },
  {
   "cell_type": "markdown",
   "metadata": {
    "slideshow": {
     "slide_type": "slide"
    }
   },
   "source": [
    "# Síntesis aditiva\n",
    "\n",
    "- Idea: hemos visto que una nota de guitarra, flauta o piano está compuesta por frecuencias, múltiplos de una fundamental (armónicos)\n",
    "\n",
    "    $\\leadsto$ recomponer una nota musical por *adición de frecuencias* (armónicos) $f_1,\\ldots,f_k$ con amplitudes dadas $r_1,\\ldots,r_k$ (idea del antiguo Teleharmonium y el órgano Hammond)\n",
    "\n",
    "<center>\n",
    "<img src=\"aditiva.png\" width=\"500\" />\n",
    "</center>\n",
    "\n",
    "\n",
    "- Cada una de estas frecuencias se genera con un oscilador independiente y se suman después.\n",
    "\n",
    "    También pueden incluirse frecuencias inarmónicas!\n",
    "\n"
   ]
  },
  {
   "cell_type": "markdown",
   "metadata": {
    "slideshow": {
     "slide_type": "slide"
    }
   },
   "source": [
    "# Modelando síntesis aditiva en Python\n",
    "\n",
    "- recuperamos la clase oscilador (versión simple)"
   ]
  },
  {
   "cell_type": "code",
   "execution_count": null,
   "metadata": {},
   "outputs": [],
   "source": [
    "%%writefile osc.py\n",
    "\n",
    "from consts import *\n",
    "import numpy as np         \n",
    "\n",
    "class Osc:\n",
    "    def __init__(self,freq=440.0,amp=1.0,phase=0.0):\n",
    "        self.freq = freq\n",
    "        self.amp = amp\n",
    "        self.phase = phase\n",
    "        self.frame = 0\n",
    "\n",
    "    def next(self):    \n",
    "        out = self.amp*np.sin(2*np.pi*(np.arange(self.frame,self.frame+CHUNK))*self.freq/SRATE)\n",
    "        self.frame += CHUNK\n",
    "        return out\n",
    "\n",
    "    def setFreq(self,freq):\n",
    "        self.freq = freq\n",
    "\n",
    "    def getFreq(self):\n",
    "        return self.freq"
   ]
  },
  {
   "cell_type": "markdown",
   "metadata": {},
   "source": [
    "## Mezclador de señal\n",
    "\n",
    "- Recibe $n$ señales $signals=[s_0,...,s_{n-1}]$\n",
    "\n",
    "- y las suma para generar una nueva señal\n",
    "\n",
    "  ... pero reduce la amplitud para no saturar la señal\n",
    "\n",
    "  Una forma sencilla de *equilibrar la intensidad* de la señal resultante (*equal power*) es multiplicar la suma por $\\frac{1}{\\sqrt(n)}$"
   ]
  },
  {
   "cell_type": "code",
   "execution_count": null,
   "metadata": {},
   "outputs": [],
   "source": [
    "%%writefile mixer.py\n",
    "\n",
    "from consts import *\n",
    "import numpy as np         \n",
    "\n",
    "class Mixer:\n",
    "    def __init__(self):\n",
    "        self.signals = []\n",
    "\n",
    "    def addSignal(self,osc):\n",
    "        self.signals.append(osc)\n",
    "\n",
    "    def next(self):\n",
    "        out = np.zeros(CHUNK)\n",
    "        for s in self.signals:\n",
    "            out += s.next()       \n",
    "        # normalización de energía para mantener volumen percibido\n",
    "        return out/np.sqrt(len(self.signals))"
   ]
  },
  {
   "cell_type": "markdown",
   "metadata": {},
   "source": [
    "## Síntesis aditiva"
   ]
  },
  {
   "cell_type": "code",
   "execution_count": null,
   "metadata": {
    "slideshow": {
     "slide_type": "subslide"
    }
   },
   "outputs": [],
   "source": [
    "from consts import *\n",
    "from osc import Osc   \n",
    "from mixer import *\n",
    "\n",
    "# stream de salida con callBack\n",
    "master = None\n",
    "def callback(outdata, frames, time, status):\n",
    "    if status: print(status)\n",
    "    if master:    \n",
    "        s = master.next()\n",
    "        s = np.float32(s)\n",
    "    else:\n",
    "        s = np.zeros(CHUNK,dtype=np.float32)\n",
    "    outdata[:] = s.reshape(-1, 1)\n",
    "# stream de salida con callBack\n",
    "stream = sd.OutputStream(samplerate=SRATE, callback=callback, blocksize=CHUNK)\n",
    "stream.start()\n",
    "\n",
    "\n",
    "freq = 110  # frec base\n",
    "step = 5    # variacion de la frecuencia base\n",
    "amps = [0.2, 0.15, 0.15, 0.15, 0.2, 0.1, 0.1]  # amps de los armónicos\n",
    "\n",
    "freqs = [freq*(i+1) for i in range(len(amps))]  # frecs de los armónicos\n",
    "\n",
    "# osciladores armónicos\n",
    "oscs = [Osc(freqs[i],amps[i]) for i in range(len(freqs))]\n",
    "\n",
    "\n",
    "mixer = Mixer()\n",
    "for osc in oscs:\n",
    "    mixer.addSignal(osc)\n",
    "\n",
    "master = mixer\n",
    "\n",
    "end =  False\n",
    "\n",
    "while not end:\n",
    "    c = input(\"[F/f] subir/bajar frequencia  [q] salir: \")\n",
    "    if c=='q': \n",
    "        end = True\n",
    "    else:\n",
    "        if c=='F':\n",
    "            freq = freq+step\n",
    "        elif c=='f':\n",
    "            freq = freq-step\n",
    "        freqs = [freq*(i+1) for i in range(len(amps))]  # freqs de los armónicos\n",
    "        for i in range(len(amps)): \n",
    "            oscs[i].setFreq(freqs[i])\n",
    "\n",
    "        print(f\"\\rfreqs:\",end='')\n",
    "        for i in range(len(amps)): \n",
    "            print(f\"F{i}: {freqs[i]} v{i}: {amps[i]}   \",end='')\n",
    "\n",
    "stream.stop()"
   ]
  },
  {
   "cell_type": "markdown",
   "metadata": {
    "slideshow": {
     "slide_type": "slide"
    }
   },
   "source": [
    "# Enriqueciendo timbre\n",
    "- Con desfases en los armónicos\n",
    "- Ligera desafinación de armónicos\n",
    "\n",
    "\n",
    "\n",
    "Matemáticamente la síntesis aditiva es:\n",
    "\n",
    "$$s(t)=\\sum_{k=1}^{N}\\underbrace{A_k}_{vol_k} sin(2\\pi \\underbrace{f_k}_{armonico_k}t+\\underbrace{\\theta_k}_{desfase})$$\n",
    "\n",
    "- Además $sin$ puede reemplazarse/combinarse con cuadrada, triangular,...\n"
   ]
  },
  {
   "cell_type": "code",
   "execution_count": null,
   "metadata": {
    "slideshow": {
     "slide_type": "subslide"
    }
   },
   "outputs": [],
   "source": [
    "from consts import *\n",
    "from osc import Osc\n",
    "from mixer import *\n",
    "\n",
    "\n",
    "# stream de salida con callBack\n",
    "master = None\n",
    "def callback(outdata, frames, time, status):\n",
    "    if status: print(status)\n",
    "    if master:    \n",
    "        s = master.next()\n",
    "        s = np.float32(s)\n",
    "    else:\n",
    "        s = np.zeros(CHUNK,dtype=np.float32)\n",
    "    outdata[:] = s.reshape(-1, 1)\n",
    "# stream de salida con callBack\n",
    "stream = sd.OutputStream(samplerate=SRATE, callback=callback, blocksize=CHUNK)\n",
    "stream.start()\n",
    "\n",
    "\n",
    "freq = 110  # freq base\n",
    "step = 5\n",
    "amps = [0.3, 0.2, 0.15, 0.15, 0.1, 0.1, 0.2, 0.1, 0.5, 0.3]\n",
    "phases = [0, 0.04, 0.1, 0.07, 0.03, 0.02, 0, 0, 0, 0, 0]\n",
    "    \n",
    "\n",
    "freqs = [freq*(i+1) for i in range(len(amps))]  # frecs de los armónicos\n",
    "oscs = [Osc(freqs[i],amps[i],phases[i]) for i in range(len(freqs))]\n",
    "\n",
    "\n",
    "mixer = Mixer()\n",
    "for osc in oscs:\n",
    "    mixer.addSignal(osc)\n",
    "\n",
    "master = mixer\n",
    "\n",
    "\n",
    "\n",
    "end =  False\n",
    "while not end:\n",
    "    c = input(\"[F/f] subir/bajar frecuencia  [q] salir: \")\n",
    "    if c=='q': \n",
    "        end = True\n",
    "    else:\n",
    "        if c=='F':\n",
    "            freq = freq+step\n",
    "        elif c=='f':\n",
    "            freq = freq-step\n",
    "        freqs = [freq*(i+1) for i in range(len(amps))]  # frecs de los armónicos\n",
    "        for i in range(len(amps)): \n",
    "            oscs[i].setFreq(freqs[i])\n",
    "\n",
    "        print(f\"\\rFrecs:\",end='')\n",
    "        for i in range(len(amps)): \n",
    "            print(f\"F{i}: {freqs[i]} v{i}: {amps[i]}   \",end='')\n",
    "\n",
    "\n",
    "    \n",
    "stream.stop()"
   ]
  },
  {
   "cell_type": "markdown",
   "metadata": {
    "slideshow": {
     "slide_type": "slide"
    }
   },
   "source": [
    "# Gráficamente\n"
   ]
  },
  {
   "cell_type": "code",
   "execution_count": null,
   "metadata": {
    "slideshow": {
     "slide_type": "fragment"
    }
   },
   "outputs": [],
   "source": [
    "from consts import *\n",
    "\n",
    "%matplotlib inline\n",
    "\n",
    "\n",
    "end = int(SRATE/50)\n",
    "pi = np.pi\n",
    "t = np.arange(0,end)\n",
    "\n",
    "#tabla de armonicos\n",
    "arms = [(1.,100.,-pi/2),\n",
    "    (0.5,300.,0),\n",
    "    (0.25,500.,-pi/2),\n",
    "    (0.1,700.,0),\n",
    "    (0.05,800.,0),\n",
    "    (0.01,900.,-pi/2)]\n",
    "\n",
    "s = np.zeros(end)\n",
    "plt.subplot(211)\n",
    "plt.title(\"Tabla de parciales aislados\")\n",
    "plt.xlim(0,end)\n",
    "for n in arms:\n",
    "    a,f,ph = n\n",
    "    p = a*np.cos(2*pi*f*t/SRATE + ph)\n",
    "    s += p\n",
    "    plt.plot(t, p)\n",
    "plt.subplot(212)\n",
    "plt.title(\"Onda resultante\")\n",
    "plt.xlim(0,end)\n",
    "plt.plot(t, s)\n",
    "plt.tight_layout()\n",
    "plt.show()"
   ]
  },
  {
   "cell_type": "markdown",
   "metadata": {},
   "source": [
    "# Este modelo ya se utilizaba en sintetizadores analógicos\n",
    "\n",
    "\n",
    "<center>\n",
    "<img src=\"Moog-Modular-Series.jpg\" width=\"400\" />\n",
    "</center>\n",
    "\n",
    "\n",
    "<center>\n",
    "<img src=\"moog_minimoogd.jpg\" width=\"400\" />\n",
    "<img src=\"minimoog.jpg\" width=\"400\" />\n",
    "</center>\n"
   ]
  },
  {
   "cell_type": "markdown",
   "metadata": {},
   "source": [
    "# *Contras* de la síntesis aditiva\n",
    "\n",
    "- En general es costosa: \n",
    "    - para obtener timbres ricos se necesitan muchos osciladores (10 o más)\n",
    "    - muchos parámetros que controlar...\n",
    "    - para *variar* los sonidos en el tiempo hay que controlar cada uno de esos parámetros\n"
   ]
  },
  {
   "cell_type": "markdown",
   "metadata": {
    "slideshow": {
     "slide_type": "slide"
    }
   },
   "source": [
    "# Síntesis sustractiva\n",
    "\n",
    "Parte de un sonido y se *esculpe* el timbre buscado\n",
    "\n",
    "- Se parte de una señal muy rica en armónicos\n",
    "    - En rigor, se parte de *ruido blanco* (contiene todas las frecuencias)\n",
    "    - pero pueen utlizarse otras señalse de partida (onda cuadrada, diente de sierra...)\n",
    "\n",
    "-   Se utilizan filtros para *recortar* o **esculpir** el contenido armónico y obtener un timbre determinado\n",
    "        - Suelen utilizarse filtros LP resonantes\n",
    "\n",
    "<center>\n",
    "<img src=\"media/subtractive1.png\" width=\"500\"/>\n",
    "<img src=\"media/subtractive2.png\" width=\"400\"/>\n",
    "</center>\n",
    "\n",
    "\n",
    "Ejemplo del proceso en\n",
    "<https://en.wikipedia.org/wiki/Subtractive_synthesis>\n"
   ]
  },
  {
   "cell_type": "markdown",
   "metadata": {
    "slideshow": {
     "slide_type": "slide"
    }
   },
   "source": [
    "# Refinando el modelo aditivo: síntesis FM\n",
    "\n",
    "La síntesis aditiva trata de emular la generación de armónicos de un instrumento natural.\n",
    "\n",
    "- Pero en la naturaleza, estos armónicos no son señales periódicas puras (las cuerdas nunca están perfectamente equilibradas).\n",
    "\n",
    "    $\\leadsto$ hay pequeñas variaciones continuas de frecuencia = **modulaciones en frecuencia**\n",
    "\n",
    "Este es el \"fundamento\" de la síntesis por Frecuencia Modulada (FM)... aunque en realidad fue un hallazgo casual:\n",
    "\n",
    "- *The Synthesis of Complex Audio Spectra by Means of Frequency Modulation*, John Chowning, 1973\n",
    "\n",
    "$\\leadsto$ Yamaha DX7\n"
   ]
  },
  {
   "cell_type": "markdown",
   "metadata": {
    "slideshow": {
     "slide_type": "slide"
    }
   },
   "source": [
    "# Idea de la síntesis FM \n",
    "\n",
    "\n",
    "<center>\n",
    "<img src=\"fm.png\" width=\"600\" />\n",
    "</center>\n",
    "\n",
    "\n",
    "Matemáticamente:\n",
    "$${sin(2\\pi f_c+\\beta \\underbrace{sin(2\\pi f_m))}_{\\textrm{moduladora}}}$$\n",
    "\n",
    "-   $f_c$ frecuencia portadora (**carrier**) $\\leadsto$ pitch de la nota.\n",
    "\n",
    "-   $f_m$ frecuencia moduladora (**modulator**) $\\leadsto$ vibrato\n",
    "\n",
    "-   $\\beta$ índice de modulación (modulator **index**)\n"
   ]
  },
  {
   "cell_type": "markdown",
   "metadata": {
    "slideshow": {
     "slide_type": "slide"
    }
   },
   "source": [
    "# Y si añadimos más moduladores?\n",
    "\n",
    "Y si añadimos más moduladores?, i.e., que la portadora juegue el papel de moduladora (de otra portadora): y si anidamos más senos dentro de los senos?\n",
    "\n",
    "Supongamos\n",
    "\n",
    "$$\\begin{array}{r}\n",
    "    sin(2\\pi f_c+\\beta sin(2\\pi f_m))~~\\\\\n",
    "    sin(2\\pi f_{c'} + \\beta' sin(2\\pi f_c+\\beta sin(2\\pi f_m)))~\\\\\n",
    "    sin(2\\pi f_{c''} + \\beta'' sin(2\\pi f_{c'} + \\beta' sin(2\\pi f_c+\\beta sin(2\\pi f_m)))~\\\\        \n",
    "  \\end{array}$$\n",
    "\n",
    "Otra formulación (mismo resultado). Supongamos:\n",
    "\n",
    "$$[\\underbrace{(f_0,vol)}_{carrier},\\underbrace{(f_1,\\beta_1),(f_2,\\beta_2),\\ldots,(f_n,\\beta_n)}_{moduladoras~ (anidadas)}]$$\n"
   ]
  },
  {
   "cell_type": "markdown",
   "metadata": {
    "slideshow": {
     "slide_type": "slide"
    }
   },
   "source": [
    "# Mas extensiones? Timbres?\n",
    "\n",
    "- Se pueden utilizar/combinar otros tipos de onda y efectos.\n",
    "\n",
    "**La pregunta del millón**: ¿Que combinaciónes de modulares y que parámtros $(f,\\beta)$ utilizo para obtener un oboe o un piano?\n",
    "\n",
    "$\\leadsto$ experimentar, coleccionar presets y meter envolventes ADSR!\n",
    "\n",
    "Una pista:\n",
    "\n",
    "<http://javelinart.com/FM_Synthesis_of_Real_Instruments.pdf>\n",
    "\n",
    "Un sintetizador:\n",
    "\n",
    "<https://pypi.org/project/synthplayer/>\n"
   ]
  },
  {
   "cell_type": "markdown",
   "metadata": {
    "slideshow": {
     "slide_type": "slide"
    }
   },
   "source": [
    "# Yamaha DX7\n",
    "\n",
    "<center>\n",
    "<img src=\"YAMAHA_DX7.jpg\" width=\"800\" />\n",
    "</center>\n",
    "\n",
    "\n",
    "\n",
    "<center>\n",
    "<img src=\"algsFM.png\" width=\"800\" />\n",
    "</center>\n",
    "\n",
    "Un DX7 virtual: https://asb2m10.github.io/dexed/\n"
   ]
  },
  {
   "cell_type": "markdown",
   "metadata": {
    "slideshow": {
     "slide_type": "slide"
    }
   },
   "source": [
    "# Otros modelos de síntesis. Wavetable (tabla de ondas)\n",
    "\n",
    "- Nuestros osciladores calculan una y otra vez los valores del seno (para cada muestra)\n",
    "\n",
    "- Podemos tabular un ciclo del seno y reutilizamos los valores para ganar eficiencia\n",
    "\n",
    "$\\leadsto$ *wavetable lookup synthesis*\n",
    "\n",
    "**Ojo**, mucha confusión terminológica con *wavetable*:\n",
    "\n",
    "- En algunos sitios presentan una versión ingénua de wavetable:\n",
    "\n",
    "    - Se copia repetidamente una muestra hasta rellenar un CHUNK\n",
    "\n",
    "    - Pero qué ocurre si cambiamos la frecuencia sobre la marcha?\n",
    "\n",
    "        $\\leadsto$ recálculo de tabla de ondas: nueva tabla de ondas!!\n",
    "\n",
    "    - Además...el cambio de frecuencia durante la ejecución produce una discontinuidad en los CHUNKS generados $\\leadsto$ POPs\n"
   ]
  },
  {
   "cell_type": "markdown",
   "metadata": {
    "slideshow": {
     "slide_type": "slide"
    }
   },
   "source": [
    "# Wavetable (look up) \"real\"\n",
    "\n",
    "Se utiliza la misma tabla para todas las frecuencias:\n",
    "\n",
    "Idea: recorrer cíclicamente la (misma) muestra almacenada en la tabla, *variando la velocidad de reproducción*, en función de la frecuencia deseada:\n",
    "\n",
    "- Si repetimos al doble de velocidad subimos una octava\n",
    "\n",
    "- $\\leadsto$ podemos generar cualquier frecuencia con la misma tabla\n",
    "\n",
    "\n",
    "Ventajas:\n",
    "\n",
    "-   Mayor eficiencia: siempre una misma tabla de ondas\n",
    "\n",
    "-   Continuidad en los CHUNKs (no pops)\n",
    "    "
   ]
  },
  {
   "cell_type": "code",
   "execution_count": null,
   "metadata": {
    "slideshow": {
     "slide_type": "fragment"
    }
   },
   "outputs": [],
   "source": [
    "from IPython.display import Video\n",
    "Video(\"media/waveTable.mp4\")"
   ]
  },
  {
   "cell_type": "code",
   "execution_count": null,
   "metadata": {
    "slideshow": {
     "slide_type": "slide"
    }
   },
   "outputs": [],
   "source": [
    "%%writefile oscWaveTable.py\n",
    "\n",
    "from consts import *\n",
    "\n",
    "class OscWaveTable:\n",
    "    # size: tamaño del ciclo de onda\n",
    "    # cuanto mayor el tamaño, mayor la resolución en frecuencia\n",
    "    def __init__(self, frec, vol, size):\n",
    "        self.frec = frec\n",
    "        self.vol = vol\n",
    "        self.size = size\n",
    "        # un ciclo completo de seno en [0,2pi)\n",
    "        t = np.linspace(0, 1, num=size)\n",
    "        self.waveTable = np.sin(2 * np.pi * t)\n",
    "        # arranca en 0\n",
    "        self.fase = 0\n",
    "        # paso en la wavetable en funcion de frec y RATE\n",
    "        self.step = self.size/(SRATE/self.frec)\n",
    "\n",
    "    def setFrec(self,frec): \n",
    "        self.frec = frec\n",
    "        self.step = self.size/(SRATE/self.frec)\n",
    "\n",
    "    def getFrec(self): \n",
    "        return self.frec    \n",
    "\n",
    "    def next(self):\n",
    "        samples = np.zeros(CHUNK,dtype=np.float32)\n",
    "        cont = 0\n",
    "        \n",
    "        while cont < CHUNK:\n",
    "            self.fase = (self.fase + self.step) % self.size\n",
    "\n",
    "            # con truncamiento, sin redondeo\n",
    "            # samples[cont] = self.waveTable[int(self.fase)]\n",
    "\n",
    "            # con redondeo\n",
    "            #x = round(self.fase) % self.size\n",
    "            #samples[cont] = self.waveTable[x]\n",
    "                        \n",
    "            # con interpolacion lineal                                    \n",
    "            x0 = int(self.fase) % self.size\n",
    "            x1 = (x0 + 1) % self.size\n",
    "            y0, y1 = self.waveTable[x0], self.waveTable[x1]            \n",
    "            samples[cont] = y0 + (self.fase-x0)*(y1-y0)/(x1-x0)\n",
    "\n",
    "            cont = cont+1\n",
    "    \n",
    "        return self.vol*samples\n"
   ]
  },
  {
   "cell_type": "markdown",
   "metadata": {},
   "source": [
    "### Veamos que no hay pops gráficamente"
   ]
  },
  {
   "cell_type": "code",
   "execution_count": null,
   "metadata": {},
   "outputs": [],
   "source": [
    "from consts import *\n",
    "\n",
    "osc = OscWaveTable(110,1,1024)\n",
    "\n",
    "s = np.empty(0,dtype=np.float32)\n",
    "for i in range(4):\n",
    "    s = np.concatenate([s,osc.next()])\n",
    "\n",
    "plt.plot(s)\n",
    "\n",
    "\n",
    "osc.setFrec(120)\n",
    "s = np.empty(0,dtype=np.float32)\n",
    "for i in range(4):\n",
    "    s = np.concatenate([s,osc.next()])\n",
    "\n",
    "\n",
    "plt.plot(s)\n",
    "plt.show()\n"
   ]
  },
  {
   "cell_type": "markdown",
   "metadata": {},
   "source": [
    "# Reproducimos sonido"
   ]
  },
  {
   "cell_type": "code",
   "execution_count": null,
   "metadata": {},
   "outputs": [],
   "source": [
    "from consts import *\n",
    "from oscWaveTable import OscWaveTable\n",
    "\n",
    "# stream de salida con callBack\n",
    "master = None\n",
    "def callback(outdata, frames, time, status):\n",
    "    if status: print(status)\n",
    "    if master:    \n",
    "        s = master.next()\n",
    "        s = np.float32(s)\n",
    "    else:\n",
    "        s = np.zeros(CHUNK,dtype=np.float32)\n",
    "    outdata[:] = s.reshape(-1, 1)\n",
    "# stream de salida con callBack\n",
    "stream = sd.OutputStream(samplerate=SRATE, callback=callback, blocksize=CHUNK)\n",
    "stream.start()\n",
    "\n",
    "\n",
    "osc = OscWaveTable(220,1,1024)\n",
    "master = osc\n",
    "\n",
    "end = False\n",
    "while not end:\n",
    "    c = input(f\"freq {osc.getFrec()}  [F/f] subir/bajar  [q] salir\\n\") \n",
    "    if c=='q': end = True\n",
    "    elif c=='F': osc.setFrec(osc.getFrec()+10)\n",
    "    elif c=='f': osc.setFrec(osc.getFrec()-10)\n",
    "\n",
    "\n",
    "stream.close()"
   ]
  },
  {
   "cell_type": "markdown",
   "metadata": {
    "slideshow": {
     "slide_type": "slide"
    }
   },
   "source": [
    "# Modelado físico\n",
    "\n",
    "Utiliza un modelo físico/matemático (ecuaciones) para emular la forma de producción de sonido de los instrumentos. \n",
    "\n",
    "Por ejemplo, para una cuerda vibrante, el modelo puede incluir:\n",
    "\n",
    "-   La generación del sonido propiamente dicho (cuerda vibrante)\n",
    "\n",
    "-   La evolución en el tiempo de dicho sonido.\n",
    "\n",
    "-   La simulación del cuerpo del instrumento (resonancia)\n",
    "\n",
    "-   etc\n"
   ]
  },
  {
   "cell_type": "markdown",
   "metadata": {
    "slideshow": {
     "slide_type": "slide"
    }
   },
   "source": [
    "# Karplus-Strong, 1980s\n",
    "\n",
    "Un modelo clásico (el primero?) para cuerda pulsada\n",
    "\n",
    "\n",
    "<center>\n",
    "<img src=\"karplus.png\" width=\"600\" />\n",
    "</center>\n"
   ]
  },
  {
   "cell_type": "code",
   "execution_count": 3,
   "metadata": {
    "slideshow": {
     "slide_type": "fragment"
    }
   },
   "outputs": [
    {
     "data": {
      "text/html": [
       "<video src=\"ksMovie.mp4\" controls  >\n",
       "      Your browser does not support the <code>video</code> element.\n",
       "    </video>"
      ],
      "text/plain": [
       "<IPython.core.display.Video object>"
      ]
     },
     "execution_count": 3,
     "metadata": {},
     "output_type": "execute_result"
    }
   ],
   "source": [
    "from IPython.display import Video\n",
    "Video(\"ksMovie.mp4\")"
   ]
  },
  {
   "cell_type": "markdown",
   "metadata": {
    "slideshow": {
     "slide_type": "fragment"
    }
   },
   "source": [
    "\n",
    "\n",
    "-   La cuerda \"recién pulsada\" produce un *caos sonoro* (ruido)\n",
    "\n",
    "-   Los rebotes tienen un efecto feedback: delay + filtro\n",
    "\n",
    "-   Y el sonido se va estructurando armónicamente en el tiempo.\n",
    "\n",
    "Todo esto ocurre muy rápido!\n",
    "\n"
   ]
  },
  {
   "cell_type": "markdown",
   "metadata": {
    "slideshow": {
     "slide_type": "slide"
    }
   },
   "source": [
    "# Implementación Karplus-Strong\n"
   ]
  },
  {
   "cell_type": "code",
   "execution_count": 5,
   "metadata": {
    "slideshow": {
     "slide_type": "fragment"
    }
   },
   "outputs": [],
   "source": [
    "from consts import *\n",
    "\n",
    "def KarplusStrong(frec, dur):\n",
    "  N = SRATE // int(frec)  # la frecuencia determina el tamanio del buffer\n",
    "  buf = np.random.rand(N) * 2 - 1  # buffer inicial: ruido\n",
    "\n",
    "  nSamples = int(dur*SRATE)\n",
    "  samples = np.empty(nSamples, dtype=float)  # salida\n",
    "\n",
    "  # generamos los nSamples haciendo recorrido circular por el buffer\n",
    "  for i in range(nSamples):\n",
    "      samples[i] = buf[i % N]  # recorrido de buffer circular\n",
    "      buf[i % N] = 0.5 * (buf[i % N] + buf[(1 + i) % N]) # filtrado\n",
    "  return samples \n"
   ]
  },
  {
   "cell_type": "code",
   "execution_count": 11,
   "metadata": {},
   "outputs": [],
   "source": [
    "# una nota\n",
    "stream = sd.OutputStream(samplerate=SRATE,blocksize=CHUNK,channels=1)  \n",
    "stream.start()\n",
    "stream.write(np.float32(KarplusStrong(110,12)))\n",
    "stream.close()   "
   ]
  },
  {
   "cell_type": "code",
   "execution_count": 16,
   "metadata": {},
   "outputs": [],
   "source": [
    "# una melodía \n",
    "stream = sd.OutputStream(samplerate=SRATE,blocksize=CHUNK,channels=1)  \n",
    "stream.start()\n",
    "\n",
    "# varias notas\n",
    "mel = [440, 349.228, 391.995, 261.625, 261.625,  391.995, 440, 349.228]\n",
    "mel = [m/2 for m in mel]\n",
    "dur = [1, 1, 1, 2 ]\n",
    "\n",
    "for i in range(len(mel)):\n",
    "    stream.write(np.float32(KarplusStrong(mel[i],dur[i%4]/1.5)))\n",
    "\n",
    "stream.close()   "
   ]
  },
  {
   "cell_type": "code",
   "execution_count": 18,
   "metadata": {},
   "outputs": [
    {
     "name": "stdout",
     "output_type": "stream",
     "text": [
      "\n",
      "Karplus Strong convolved\n"
     ]
    },
    {
     "name": "stderr",
     "output_type": "stream",
     "text": [
      "ALSA lib pcm.c:8568:(snd_pcm_recover) underrun occurred\n",
      "ALSA lib pcm.c:8568:(snd_pcm_recover) underrun occurred\n"
     ]
    }
   ],
   "source": [
    "# resonancia artificial, una reverb por convolución\n",
    "stream = sd.OutputStream(samplerate=SRATE,blocksize=CHUNK,channels=1)  \n",
    "stream.start()\n",
    "\n",
    "\n",
    "from consts import *\n",
    "import scipy\n",
    "# convolution\n",
    "ir, fs = sf.read('st-andrews.wav')\n",
    "ir = ir.astype(np.float32)\n",
    "\n",
    "print(\"\\nKarplus Strong convolved\")\n",
    "for i in range(len(mel)):\n",
    "    nota = KarplusStrong(mel[i],dur[i%4]*1.2)*0.6\n",
    "    nota = scipy.signal.convolve(nota,ir,mode='valid',method='fft')\n",
    "    stream.write(np.float32(nota))\n",
    "\n",
    "stream.close()   "
   ]
  },
  {
   "cell_type": "markdown",
   "metadata": {
    "slideshow": {
     "slide_type": "slide"
    }
   },
   "source": [
    "\n",
    "# Referencias de modelado físico\n",
    "\n",
    "- Karplus Strong online: <http://amid.fish/javascript-karplus-strong>\n",
    "\n",
    "Mas modelos físicos\n",
    "\n",
    "- https://ccrma.stanford.edu/software/clm/compmus/clm-tutorials/pm.html#k-s\n",
    "\n",
    "- Julius Smith, Perry Cook, Chuck language (STK)\n"
   ]
  },
  {
   "cell_type": "markdown",
   "metadata": {
    "slideshow": {
     "slide_type": "slide"
    }
   },
   "source": [
    "\n",
    "# Sampler\n",
    "\n",
    "Es una **aproximación muy distinta** a las anteriores:\n",
    "\n",
    "- Todos los modelos anteriores producen sonido púramente sintetizado: generado por el ordenador\n",
    "\n",
    "- El sampler utiliza *material sonoro real* previamente grabado de un instrumento\n",
    "\n",
    "    - Muestra de corta duración: normalmente una nota (... no es la idea de los loops y la remezcla de los DJ).\n",
    "\n",
    "    - Se reproduce a distintas velocidades para producir las diferentes notas.\n",
    "\n",
    "Los samplers incluyen:\n",
    "\n",
    "- Manejo de regiones *sustain* para repetir en loop y poder alargar la duración del sonido\n",
    "\n",
    "Y además suelen incluir:\n",
    "\n",
    "- envolventes de volumen (ADSR y otras)\n",
    "- filtros\n",
    "\n",
    "\n",
    "(Ejemplo piano de la hoja de problemas, renoise, lmms)"
   ]
  },
  {
   "cell_type": "markdown",
   "metadata": {},
   "source": [
    "# Síntesis granular\n",
    "\n",
    "Puede verse como una forma especial de sampler:\n",
    "\n",
    "-   Las muestras se trocean en pequeños fragmentos de muy corta duración (5-100 milisegundos)\n",
    "\n",
    "-   Se re-agrupan en conjuntos más grandes (de manera síncrona o asíncrona)\n",
    "\n",
    "Permite crear timbres y **texturas sonoras** de gran comlejidad.\n",
    "\n",
    "- https://www.hispasonic.com/reviews/5-novedosas-aplicaciones-para-entender-visualmente-sintesis-granular/40850\n",
    "\n",
    "### Referencias\n",
    "\n",
    "Un buen punto de entrada:\n",
    "\n",
    "- http://granularsynthesis.com/books.php"
   ]
  }
 ],
 "metadata": {
  "kernelspec": {
   "display_name": "Python 3",
   "language": "python",
   "name": "python3"
  },
  "language_info": {
   "codemirror_mode": {
    "name": "ipython",
    "version": 3
   },
   "file_extension": ".py",
   "mimetype": "text/x-python",
   "name": "python",
   "nbconvert_exporter": "python",
   "pygments_lexer": "ipython3",
   "version": "3.10.12"
  }
 },
 "nbformat": 4,
 "nbformat_minor": 2
}
