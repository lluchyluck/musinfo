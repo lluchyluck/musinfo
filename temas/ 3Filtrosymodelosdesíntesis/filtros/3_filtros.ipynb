{
 "cells": [
  {
   "cell_type": "markdown",
   "metadata": {
    "slideshow": {
     "slide_type": "slide"
    }
   },
   "source": [
    "# Filtros\n",
    "\n",
    "Transformar el sonido eliminando o atenuando frecuencias de manera selectiva\n",
    "\n",
    "- Low pass LP (paso bajo): eliminan frecuencias altas (dejan pasar graves)\n",
    "\n",
    "- Hihg pass HP (paso alto): eliminan frecuencias baja (dejan pasar agudos)\n",
    "\n",
    "- Band pass BP (paso banda): pasa una porción dentro de una banda centrada en una frecuencia; elimina componentes fuera de esa banda.\n",
    "\n",
    "- Band reject BR: al revés, descarta las frecuencias dentro de la banda.\n",
    "\n",
    "- All pass AP: pasan todas, pero altera la fase de la señal de entrada.\n",
    "\n",
    "![image](tipos_filtros.png)\n",
    "\n",
    "**Frecuencia(s) de corte** (*cutoff frequency*): frecuencia a partir de la cual actúa el filtro.\n",
    "\n"
   ]
  },
  {
   "cell_type": "markdown",
   "metadata": {
    "slideshow": {
     "slide_type": "slide"
    }
   },
   "source": [
    "\n",
    "En abstracto, un filtro digital transforma un conjunto de muestras\n",
    "\n",
    "$$x[0,\\ldots] \\leadsto y[0,\\ldots]$$ \n",
    "\n",
    "donde:\n",
    "\n",
    "$$y[n]=\\sum_{i=0}^N b_i*x[n-i] - a_i*y[n-i]$$\n",
    "\n",
    "El filtro más simple\n",
    "\n",
    "$$y[n] = x[n-1]+x[n]$$\n"
   ]
  },
  {
   "cell_type": "markdown",
   "metadata": {
    "slideshow": {
     "slide_type": "slide"
    }
   },
   "source": [
    "# Contexto para probar los filtros"
   ]
  },
  {
   "cell_type": "code",
   "execution_count": null,
   "metadata": {
    "slideshow": {
     "slide_type": "subslide"
    }
   },
   "outputs": [],
   "source": [
    "%%writefile consts.py\n",
    "\n",
    "import sounddevice as sd\n",
    "import soundfile as sf\n",
    "import numpy as np\n",
    "import librosa\n",
    "from tkinter import *\n",
    "\n",
    "# utilizamos una frecuencia de muestreo de 8000 Hz para ver mejor el efecto del filtro\n",
    "CHUNK, SRATE = 1204, 8000\n"
   ]
  },
  {
   "cell_type": "markdown",
   "metadata": {},
   "source": [
    "### Clase Player\n",
    "\n",
    "Generador de señal que toma la entrada de un archivo de audio\n",
    "\n",
    "- Resampleamos a SRATE, sea cual sea el srate del audio leído: unificamos al SRATE del proyecto"
   ]
  },
  {
   "cell_type": "code",
   "execution_count": null,
   "metadata": {},
   "outputs": [],
   "source": [
    "%%writefile player.py\n",
    "\n",
    "from consts import *\n",
    "\n",
    "class Player:\n",
    "    def __init__(self, file):\n",
    "        # leemos archivo de audio\n",
    "        data, srate = sf.read(file,dtype=np.float32)       \n",
    "        # resampleamos a SRATE\n",
    "        self.data = librosa.resample(data, orig_sr=srate, target_sr=SRATE)     \n",
    "        self.finished = False\n",
    "        self.frame = 0\n",
    "\n",
    "    def next(self):\n",
    "        if self.frame+CHUNK>len(self.data): # si no queda suficiente data, rellenamos con ceros\n",
    "            self.finished = True\n",
    "            return np.pad(self.data[self.frame:],(0,CHUNK-len(self.data[self.frame:])),mode='constant')\n",
    "        else:\n",
    "            ret = self.data[self.frame:self.frame+CHUNK]\n",
    "            self.frame += CHUNK\n",
    "            return ret\n",
    "\n",
    "    def isFinished(self):\n",
    "        return self.finished\n",
    "    \n",
    "    def sRate(self):\n",
    "        return self.SRATE"
   ]
  },
  {
   "cell_type": "markdown",
   "metadata": {},
   "source": [
    "## Un filtro sencillo \n",
    "\n",
    "Implementado como procesador de señal:\n",
    "\n",
    "- Recibe una señal (que tiene método *next*)\n",
    "\n",
    "- Implementa su propio método *next* que devuelve audio procesado (filtrado)"
   ]
  },
  {
   "cell_type": "code",
   "execution_count": null,
   "metadata": {},
   "outputs": [],
   "source": [
    "%%writefile filter.py\n",
    "\n",
    "from consts import *\n",
    "\n",
    "class Filter:\n",
    "    def __init__(self,signal):\n",
    "        self.signal = signal\n",
    "        self.mem = 0\n",
    "        # por defecto inactivo\n",
    "        self.act = False\n",
    "\n",
    "    def next(self):\n",
    "        data = self.signal.next()\n",
    "        if self.act:\n",
    "            data[1:]=0.5*(data[0:-1]+data[1:]) # media entre cada muestra y la siguiente\n",
    "            data[0] = 0.5*(self.mem+data[0]) # la primera muestra se calcula por separado, utilizando la última del bloque anterior\n",
    "        self.mem = data[-1] # actualizamos memo con ultima muestra\n",
    "        return data\n",
    "\n",
    "    def activate(self):\n",
    "        self.act = True\n",
    "\n",
    "    def deactivate(self):\n",
    "        self.act = False    \n",
    "\n",
    "    def isActive(self):\n",
    "        return self.act\n",
    "\n"
   ]
  },
  {
   "cell_type": "markdown",
   "metadata": {},
   "source": [
    "## Hebra de soundDevice (con callback)"
   ]
  },
  {
   "cell_type": "code",
   "execution_count": 1,
   "metadata": {},
   "outputs": [],
   "source": [
    "from consts import *\n",
    "\n",
    "# stream de salida con callBack\n",
    "input = None\n",
    "def callback(outdata, frames, time, status):\n",
    "    if status: print(status)\n",
    "    if input:    \n",
    "        s = input.next()\n",
    "        s = np.float32(s)\n",
    "    else:\n",
    "        s = np.zeros(CHUNK,dtype=np.float32)\n",
    "    outdata[:] = s.reshape(-1, 1)\n",
    "\n"
   ]
  },
  {
   "cell_type": "markdown",
   "metadata": {},
   "source": [
    "# Recogida de señal, enrutado y control con TkInter"
   ]
  },
  {
   "cell_type": "code",
   "execution_count": null,
   "metadata": {},
   "outputs": [],
   "source": [
    "from consts import *\n",
    "from player import Player\n",
    "from filter import Filter\n",
    "\n",
    "# stream de salida con callBack\n",
    "stream = sd.OutputStream(samplerate=SRATE, callback=callback, blocksize=CHUNK)\n",
    "stream.start()\n",
    "\n",
    "\n",
    "signal = Player('tormenta.wav')\n",
    "signalFiltered = Filter(signal)\n",
    "input = signalFiltered\n",
    "\n",
    "\n",
    "# inicialización de la ventanas \n",
    "tk=Tk()\n",
    "\n",
    "# Caja de texto\n",
    "text = Text(tk,height=6,width=60)\n",
    "text.pack(side=BOTTOM)\n",
    "text.insert(INSERT,\"Press 'F/f' to activate/deactivate filter\\n\")\n",
    "\n",
    "# call back para la pulsación de teclas\n",
    "def key_down(event):\n",
    "    if event.char=='F': \n",
    "        text.insert(INSERT,f'\\nFilter active  ')\n",
    "        signalFiltered.activate()\n",
    "    elif event.char=='f': \n",
    "        text.insert(INSERT,f'\\nFilter bypassed  ')\n",
    "        signalFiltered.deactivate()\n",
    "\n",
    "# enlace de la pulsación de teclas con la función key_down\n",
    "text.bind('<Key>', key_down)\n",
    "\n",
    "\n",
    "# arrancamos todo!!\n",
    "tk.mainloop()\n",
    "# ejecución bloqueada hasta que se cierre ventana\n",
    "\n",
    "\n",
    "stream.stop()       \n",
    "stream.close()\n"
   ]
  },
  {
   "cell_type": "code",
   "execution_count": null,
   "metadata": {},
   "outputs": [],
   "source": [
    "stream.close()"
   ]
  },
  {
   "cell_type": "markdown",
   "metadata": {
    "slideshow": {
     "slide_type": "slide"
    }
   },
   "source": [
    "# Qué hace exactamente este filtro?\n",
    "\n",
    "Cómo se comporta este filtro con una señal dada?\n",
    "- más fácil: cómo se comporta para una frecuencia dada?\n",
    "\n",
    "![image](lp_in-out.png)\n",
    "\n",
    "-   Incrementa la amplitud hasta $\\sqrt{2}$\n",
    "\n",
    "-   Desplaza la fase en $-2*\\pi/8$\n",
    "\n",
    "Para profundizar: *Introduction to Digital Filters with Audio Applications*, by Julius O.\n",
    "Smith III, (September 2007 Edition).\n",
    "\n"
   ]
  },
  {
   "cell_type": "markdown",
   "metadata": {},
   "source": [
    "## Después se estudia cómo se comporta para *cada una de las frecuencias*\n",
    "\n",
    "Analizando este filtro para cada seno ($f_s$ = frecuencia de muestreo)\n",
    "\n",
    "![image](lp_response.png)\n",
    "\n",
    "Para un análisis matemático detallado:\n",
    "\n",
    "<https://ccrma.stanford.edu/~jos/filters/Mathematical_Sine_Wave_Analysis.html>\n",
    "\n"
   ]
  },
  {
   "cell_type": "markdown",
   "metadata": {
    "slideshow": {
     "slide_type": "slide"
    }
   },
   "source": [
    "# Cómo transforma (gráficamente) la señal\n",
    "\n",
    "Aplicamos este filtro LP a la tormenta:\n"
   ]
  },
  {
   "cell_type": "code",
   "execution_count": null,
   "metadata": {
    "slideshow": {
     "slide_type": "subslide"
    }
   },
   "outputs": [],
   "source": [
    "import numpy as np\n",
    "import matplotlib.pyplot as plt\n",
    "\n",
    "%matplotlib inline\n",
    "\n",
    "data, SRATE = sf.read('tormenta.wav',dtype=np.float32)\n",
    "\n",
    "#%% filtrado\n",
    "CHUNK = 100 # solo para dibujar\n",
    "\n",
    "nBloque = 0\n",
    "original = data[nBloque*CHUNK:(nBloque+1)*CHUNK]\n",
    "filtrada  = np.copy(original)\n",
    "\n",
    "# varias pasadas de filtro para exagerar el efecto\n",
    "N=10\n",
    "for j in range(N):\n",
    "    filtrada[1:] = 0.5*(filtrada[0:CHUNK-1]+filtrada[1:CHUNK])\n",
    "\n",
    "\n",
    "\n",
    "#%% dibujamos original y filtrada\n",
    "plt.figure(figsize=(20,10))\n",
    "plt.plot(original)\n",
    "\n",
    "plt.figure(figsize=(20,10))\n",
    "plt.plot(filtrada)\n"
   ]
  },
  {
   "cell_type": "markdown",
   "metadata": {
    "slideshow": {
     "slide_type": "slide"
    }
   },
   "source": [
    "# FIR y IIR\n",
    "\n",
    "- El filtro anterior es un filtro FIR (*finite impulse response*). En general, un FIR es:\n",
    "\n",
    "  $$y[n] = b_0 * x[n] + b_1 * x[n-1] + \\ldots + b_* x[n-N]$$ \n",
    "\n",
    "  $x$: entrada; $y$ salida; $N$ orden del filtro; $b_i$ coeficientes del filtro\n",
    "\n",
    "- Los filtros IIR (*infinite impulse response*) se definen como: \n",
    "\n",
    "  $$y[n] = \\quad b_0 * x[n] + b_1 * x[n-1] + \\ldots + b_N* x[n-N]\\\\\n",
    "       \\qquad\\qquad\\qquad -a_1 *y[n-1] - a_2*y[n-2] -\\ldots - a_M*y[n-M]\n",
    "    $$\n",
    "\n",
    "**Diseño de filtros** cálculo de coeficientes $a_i,b_i$ para conseguir salida correspondiente: \n",
    "- frecuencia de corte, fase, amplitud\n",
    "- y otras propiedades: linealidad, estabilidad, etc.\n",
    "\n",
    "(Ampliamente estudiado en cursos de DSP)"
   ]
  },
  {
   "cell_type": "markdown",
   "metadata": {
    "slideshow": {
     "slide_type": "slide"
    }
   },
   "source": [
    "# Un filtro IIR fácil\n",
    "\n",
    "Un filtro LP un poco más sofisticado que el anterior:\n",
    "\n",
    "$$y[n] = \\alpha *y[n-1] + (1-\\alpha)*x[n]$$\n",
    "\n",
    "El coeficiente $\\alpha$ determina la frecuencia de corte\n",
    "\n",
    "**Importante:** ahora sí hay que hacer un bucle!! En una asignación como la de arriba, numpy\n",
    "\n",
    "-  calcularía todo el lado derecho y luego lo asignaría al lado izdo ($y[n]$)... no es lo que queremos\n",
    "\n",
    "No se puede hacer recursión en numpy de esta manera\n"
   ]
  },
  {
   "cell_type": "code",
   "execution_count": null,
   "metadata": {
    "slideshow": {
     "slide_type": "subslide"
    }
   },
   "outputs": [],
   "source": [
    "# Experimento: numpy primero calcula todo el lado dcho y luego asigna al izdo\n",
    "b = np.arange(10,dtype=np.float32)\n",
    "alpha =0.5\n",
    "\n",
    "print('Experimento: ') # no funciona como queremos\n",
    "b[1:] = b[0:-1] + alpha*(b[1:]-b[0:-1]) \n",
    "b[0]  = 0 + alpha*(b[0]-0)\n",
    "\n",
    "# versión correcta\n",
    "c = np.arange(10,dtype=np.float32)\n",
    "c[0] = 0 + alpha * (c[0]-0)\n",
    "for i in range(1,len(c)):\n",
    "    c[i] = c[i-1] + alpha * (c[i]-c[i-1])\n",
    "\n",
    "# comparamos resultados\n",
    "print(b)\n",
    "print(c)"
   ]
  },
  {
   "cell_type": "code",
   "execution_count": 5,
   "metadata": {},
   "outputs": [
    {
     "name": "stdout",
     "output_type": "stream",
     "text": [
      "Overwriting filterIIR.py\n"
     ]
    }
   ],
   "source": [
    "%%writefile filterIIR.py\n",
    "\n",
    "from consts import *\n",
    "\n",
    "class FilterIIR:\n",
    "    def __init__(self,signal,alpha,step=0.01):\n",
    "        self.signal = signal\n",
    "        self.mem = 0\n",
    "        self.alpha = alpha\n",
    "        self.step = step\n",
    "        # por defecto inactivo\n",
    "        self.act = False\n",
    "\n",
    "    def next(self):\n",
    "        data = self.signal.next()\n",
    "        if self.act:\n",
    "            data[0] = self.mem + self.alpha * (data[0]-self.mem)\n",
    "            for i in range(1,CHUNK):\n",
    "                data[i] = data[i-1] + self.alpha * (data[i]-data[i-1])\n",
    "            self.mem = data[CHUNK-1]\n",
    "        self.mem = data[-1] # actualizamos memo con ultima muestra\n",
    "        return data\n",
    "\n",
    "    def activate(self):\n",
    "        self.act = True\n",
    "\n",
    "    def deactivate(self):\n",
    "        self.act = False    \n",
    "\n",
    "    def isActive(self):\n",
    "        return self.act\n",
    "\n",
    "    def upAlpha(self):\n",
    "        self.alpha = min(2.0,max(0.1,self.alpha+self.step))\n",
    "\n",
    "    def downAlpha(self):\n",
    "        self.alpha = min(2.0,max(0.1,self.alpha-self.step))"
   ]
  },
  {
   "cell_type": "code",
   "execution_count": 2,
   "metadata": {},
   "outputs": [
    {
     "name": "stderr",
     "output_type": "stream",
     "text": [
      "ALSA lib pcm.c:8568:(snd_pcm_recover) underrun occurred\n",
      "ALSA lib pcm.c:8568:(snd_pcm_recover) underrun occurred\n",
      "ALSA lib pcm.c:8568:(snd_pcm_recover) underrun occurred\n",
      "ALSA lib pcm.c:8568:(snd_pcm_recover) underrun occurred\n",
      "ALSA lib pcm.c:8568:(snd_pcm_recover) underrun occurred\n"
     ]
    },
    {
     "name": "stdout",
     "output_type": "stream",
     "text": [
      "output underflow\n",
      "output underflow\n",
      "output underflow\n",
      "output underflow\n",
      "output underflow\n"
     ]
    }
   ],
   "source": [
    "from consts import *\n",
    "from player import Player\n",
    "from filterIIR import FilterIIR\n",
    "\n",
    "\n",
    "# stream de salida con callBack\n",
    "input = None\n",
    "def callback(outdata, frames, time, status):\n",
    "    if status: print(status)\n",
    "    if input:    \n",
    "        s = input.next()\n",
    "        s = np.float32(s)\n",
    "    else:\n",
    "        s = np.zeros(CHUNK,dtype=np.float32)\n",
    "    outdata[:] = s.reshape(-1, 1)\n",
    "\n",
    "# stream de salida con callBack\n",
    "stream = sd.OutputStream(samplerate=SRATE, callback=callback, blocksize=CHUNK)\n",
    "stream.start()\n",
    "\n",
    "\n",
    "signal = Player('tormenta.wav')\n",
    "signalFiltered = FilterIIR(signal,alpha=0.5,step=0.05)\n",
    "input = signalFiltered\n",
    "\n",
    "\n",
    "# inicialización de la ventanas \n",
    "tk=Tk()\n",
    "\n",
    "# Caja de texto\n",
    "text = Text(tk,height=6,width=60)\n",
    "text.pack(side=BOTTOM)\n",
    "text.insert(INSERT,\"Press 'F/f' to activate/deactivate filter\\n\")\n",
    "text.insert(INSERT,\"[A/a] sube baja alpha\")\n",
    "\n",
    "\n",
    "# call back para la pulsación de teclas\n",
    "def key_down(event):\n",
    "    if event.char=='F': \n",
    "        signalFiltered.activate()\n",
    "    elif event.char=='f': \n",
    "        signalFiltered.deactivate()\n",
    "    elif event.char=='A':\n",
    "        signalFiltered.upAlpha()        \n",
    "    elif event.char=='a':  \n",
    "        signalFiltered.downAlpha()\n",
    "\n",
    "    act = \"active\" if signalFiltered.isActive() else \"bypassed\"\n",
    "    text.insert(INSERT,f'\\nFilter {act}  Alpha: {signalFiltered.alpha}')        \n",
    "\n",
    "# enlace de la pulsación de teclas con la función key_down\n",
    "text.bind('<Key>', key_down)\n",
    "\n",
    "\n",
    "# arrancamos todo!!\n",
    "tk.mainloop()\n",
    "# ejecución bloqueada hasta que se cierre ventana\n",
    "\n",
    "\n",
    "stream.stop()       \n",
    "stream.close()\n"
   ]
  },
  {
   "cell_type": "markdown",
   "metadata": {
    "slideshow": {
     "slide_type": "subslide"
    }
   },
   "source": [
    "-   Qué ocurre con `alpha = 1`?\n",
    "-   Y con `alpha = 0, alpha = 2`?"
   ]
  },
  {
   "cell_type": "markdown",
   "metadata": {
    "slideshow": {
     "slide_type": "slide"
    }
   },
   "source": [
    "# Cómo hacemos un filtro HP?\n",
    "\n",
    "Solo hemos visto filtros paso bajo (LP)... cómo hacemos uno HP (paso alto)?\n",
    "\n",
    "Idea, dada una señal $x[n]$\n",
    "\n",
    "-   Obtener la señal filtrada $y[n]$ mediante un filtro LP\n",
    "\n",
    "-   Restar a la señal original $x[n]$ la señal filtrada $y[n]$\n",
    "\n",
    "$$z[n]=x[n]-y[n]$$\n",
    "\n",
    "## Cómo determinamos la frecuencia de corte?\n",
    "\n",
    "En función de `alpha`:\n",
    "\n",
    "$$alpha = e^{-2*\\pi*freq/SRATE}$$\n",
    "\n"
   ]
  },
  {
   "cell_type": "code",
   "execution_count": null,
   "metadata": {},
   "outputs": [],
   "source": [
    "\n",
    "# Implementación de un filtro paso bajo con una frecuencia de corte variable (IDEA)\n",
    "\n",
    "\n",
    "print(\"[F] frecuencia de corte +100\")\n",
    "print(\"[f] frecuencia de corte -100\")\n",
    "print(\"[l] filtro lp\")\n",
    "print(\"[h] filtro hp\")\n",
    "\n",
    "freq = 1000\n",
    "prev = 0\n",
    "filter = \"lp\"\n",
    "\n",
    "\n",
    "# en el filtro\n",
    "'''\n",
    "    bloque = data[nBloque*CHUNK : (nBloque+1)*CHUNK]\n",
    "        \n",
    "    alpha = np.exp(-2*np.pi*freq / SRATE)    \n",
    "\n",
    "    # filtro paso bajo\n",
    "    if (filter=='lp'):\n",
    "        bloque[0] = alpha * prev + (1-alpha) * bloque[0]\n",
    "        for i in range(1,CHUNK):         \n",
    "            bloque[i] = alpha * bloque[i-1] + (1-alpha) * bloque[i]            \n",
    "    # filtro paso alto (diferencia entre señal original y paso bajo)\n",
    "    elif (filter=='hp'):\n",
    "        bloque[0] = bloque[0] - alpha * prev + (1-alpha) * bloque[0]\n",
    "        for i in range(1,CHUNK):\n",
    "            bloque[i] = bloque[i] - (alpha * bloque[i-1] + (1-alpha) * bloque[i])\n",
    "\n",
    "    prev = bloque[CHUNK-1]\n",
    "'''"
   ]
  },
  {
   "cell_type": "markdown",
   "metadata": {
    "slideshow": {
     "slide_type": "slide"
    }
   },
   "source": [
    "# Más sobre filtros\n",
    "\n",
    "-   *Introduction to Digital Filters with Audio Applications*, Julius O. Smith III, (September 2007 Edition). (online)\n",
    "\n",
    "-   *The Scientist and Engineer's Guide to Digital Signal Processing*, Second Edition, Steven W. Smith, 1999,\n",
    "    (www.DSPguide.com)\n",
    "\n",
    "-   *Real sound synthesis for interactive applications*, Perry  Cook, 2002.\n",
    "\n",
    "DSP en NumPy:\n",
    "\n",
    "<https://docs.scipy.org/doc/scipy/reference/signal.html>\n",
    "\n",
    "También ofrece:\n",
    "\n",
    "-  **Correlación**: *medida de la similitud entre señales* (análisis de espectro)\n",
    "\n",
    "-  **Convolución**: *efecto de aplicar una señal a otra* (efectos)\n",
    "\n",
    "-  **FFT**: transformada rápida de Fourier $\\leadsto$ eficiencia en las operaciones (tiempo real)\n"
   ]
  }
 ],
 "metadata": {
  "kernelspec": {
   "display_name": "Python 3",
   "language": "python",
   "name": "python3"
  },
  "language_info": {
   "codemirror_mode": {
    "name": "ipython",
    "version": 3
   },
   "file_extension": ".py",
   "mimetype": "text/x-python",
   "name": "python",
   "nbconvert_exporter": "python",
   "pygments_lexer": "ipython3",
   "version": "3.10.12"
  }
 },
 "nbformat": 4,
 "nbformat_minor": 2
}
