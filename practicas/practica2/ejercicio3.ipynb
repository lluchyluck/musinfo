{
 "cells": [
  {
   "cell_type": "code",
   "execution_count": 1,
   "metadata": {},
   "outputs": [],
   "source": [
    "import sys\n",
    "import os\n",
    "\n",
    "# Asegurar que la carpeta actual está en el path de Python\n",
    "sys.path.append(os.getcwd())"
   ]
  },
  {
   "cell_type": "code",
   "execution_count": 2,
   "metadata": {},
   "outputs": [
    {
     "name": "stdout",
     "output_type": "stream",
     "text": [
      "Writing consts.py\n"
     ]
    }
   ],
   "source": [
    "%%writefile consts.py\n",
    "\n",
    "# para todo el proyecto (no cambian)\n",
    "SRATE = 48000 # frecuencia de muestreo\n",
    "CHUNK = 1024  # tamaño de los CHUNKs\n",
    "\n",
    "# mapeo de teclas del ordenador a notas en el piano\n",
    "# utilizamos '.' para los sostenidos\n",
    "teclas = \"zsxdcvgbhnjmq2w3er5t6y7u\"  # 2 de teclas filas \n",
    "notas =  \"C.D.EF.G.A.Bc.d.ef.g.a.b\"  # mapeadas a 2 octavas\n",
    "#         octava baja||octava alta\n",
    "\n",
    "\n",
    "# frecuencias de las notas asocidas a las teclas del teclado\n",
    "# partimos del la=220Hz y generamos frecuencias de escala temperada\n",
    "pitchs = [ 220*2.0**(i/12.0) for i in range(len(teclas))] \n",
    "\n",
    "# frecuencias asociadas a las notas midi de 0 a 127\n",
    "# El LA central es la nota midi 70 y su frecuencia es 440\n",
    "# contruimos hacia abajo y hacia arriba el resto de notas\n",
    "freqsMidi = [ 440*2.0**(i/12.0) for i in range(-69,59)]"
   ]
  },
  {
   "cell_type": "code",
   "execution_count": 8,
   "metadata": {},
   "outputs": [
    {
     "name": "stdout",
     "output_type": "stream",
     "text": [
      "Overwriting osc.py\n"
     ]
    }
   ],
   "source": [
    "%%writefile osc.py\n",
    "\n",
    "from consts import *\n",
    "import numpy as np         \n",
    "# import sounddevice as sd       \n",
    "# import matplotlib.pyplot as plt\n",
    "\n",
    "class Osc:\n",
    "    def __init__(self,freq=440.0,amp=1.0,phase=0.0):\n",
    "        self.freq = freq\n",
    "        self.amp = amp\n",
    "        self.phase = phase\n",
    "        self.frame = 0\n",
    "\n",
    "    def next(self):    \n",
    "        out = self.amp*np.sin(2*np.pi*(np.arange(self.frame,self.frame+CHUNK))*self.freq/SRATE)\n",
    "        self.frame += CHUNK\n",
    "        return out"
   ]
  },
  {
   "cell_type": "code",
   "execution_count": 11,
   "metadata": {},
   "outputs": [
    {
     "name": "stdout",
     "output_type": "stream",
     "text": [
      "Overwriting oscFM.py\n"
     ]
    }
   ],
   "source": [
    "%%writefile oscFM.py\n",
    "\n",
    "import numpy as np   \n",
    "import sounddevice as sd\n",
    "import tkinter as tk\n",
    "import osc\n",
    "# import matplotlib.pyplot as plt\n",
    "from consts import *\n",
    "\n",
    "class OscFM:\n",
    "    def __init__(self,fc=110.0,amp=1.0,fm=6.0, beta=1.0):\n",
    "        self.fc = fc\n",
    "        self.amp = amp\n",
    "        self.fm = fm\n",
    "        self.beta = beta\n",
    "        self.frame = 0\n",
    "        # moduladora = βsin(2πfm)\n",
    "        self.mod = osc.Osc(freq=fm,amp=beta)\n",
    "        \n",
    "    def set_fm(self, new_fm):\n",
    "        self.fm = new_fm\n",
    "        self.mod = osc.Osc(freq=self.fm,amp=self.beta)\n",
    "\n",
    "    def get_fm(self):\n",
    "        return self.fm\n",
    "\n",
    "    def set_beta(self, new_beta):\n",
    "        self.beta = new_beta\n",
    "        self.mod = osc.Osc(freq=self.fm, amp=self.beta)\n",
    "\n",
    "    def get_beta(self):\n",
    "        return self.beta\n",
    "\n",
    "\n",
    "\n",
    "    def next(self):  \n",
    "        # sin(2πfc+mod)  \n",
    "        # sacamos el siguiente chunk de la moduladora\n",
    "        mod = self.mod.next()\n",
    "\n",
    "        # soporte para el chunk de salida\n",
    "        sample = np.arange(self.frame,self.frame+CHUNK)        \n",
    "        # aplicamos formula\n",
    "        out =  self.amp*np.sin(2*np.pi*self.fc*sample/SRATE + mod)\n",
    "        self.frame += CHUNK\n",
    "        return out "
   ]
  },
  {
   "cell_type": "code",
   "execution_count": 13,
   "metadata": {},
   "outputs": [],
   "source": [
    "#%% una envolvente sencilla\n",
    "import numpy as np \n",
    "class Env:\n",
    "      def __init__(self, attack=0.1, release=0.9, amp=0.8):\n",
    "        self.env = np.concatenate((\n",
    "            np.linspace(0, amp, int(attack * SRATE)),\n",
    "            np.linspace(amp, 0, int(release * SRATE))\n",
    "        ))\n",
    "        self.frame = 0\n",
    "\n",
    "    def next(self):\n",
    "        if self.frame >= len(self.env):\n",
    "            return None\n",
    "        else:\n",
    "            out = self.env[self.frame:self.frame+CHUNK]\n",
    "            out = np.pad(out,(0,CHUNK-len(out)),'constant')\n",
    "            self.frame += CHUNK\n",
    "            return out"
   ]
  },
  {
   "cell_type": "code",
   "execution_count": 14,
   "metadata": {},
   "outputs": [
    {
     "ename": "NameError",
     "evalue": "name 'SRATE' is not defined",
     "output_type": "error",
     "traceback": [
      "\u001b[1;31m---------------------------------------------------------------------------\u001b[0m",
      "\u001b[1;31mNameError\u001b[0m                                 Traceback (most recent call last)",
      "Cell \u001b[1;32mIn[14], line 1\u001b[0m\n\u001b[1;32m----> 1\u001b[0m env \u001b[38;5;241m=\u001b[39m \u001b[43mEnv\u001b[49m\u001b[43m(\u001b[49m\u001b[43mattack\u001b[49m\u001b[38;5;241;43m=\u001b[39;49m\u001b[38;5;241;43m0.01\u001b[39;49m\u001b[43m,\u001b[49m\u001b[43m \u001b[49m\u001b[43mrelease\u001b[49m\u001b[38;5;241;43m=\u001b[39;49m\u001b[38;5;241;43m0.15\u001b[39;49m\u001b[43m,\u001b[49m\u001b[43m \u001b[49m\u001b[43mamp\u001b[49m\u001b[38;5;241;43m=\u001b[39;49m\u001b[38;5;241;43m0.2\u001b[39;49m\u001b[43m)\u001b[49m\n\u001b[0;32m      4\u001b[0m varios \u001b[38;5;241m=\u001b[39m np\u001b[38;5;241m.\u001b[39mzeros(\u001b[38;5;241m0\u001b[39m)\n\u001b[0;32m      5\u001b[0m \u001b[38;5;28;01mfor\u001b[39;00m i \u001b[38;5;129;01min\u001b[39;00m \u001b[38;5;28mrange\u001b[39m(\u001b[38;5;241m12\u001b[39m):\n",
      "Cell \u001b[1;32mIn[13], line 5\u001b[0m, in \u001b[0;36mEnv.__init__\u001b[1;34m(self, attack, release, amp)\u001b[0m\n\u001b[0;32m      4\u001b[0m \u001b[38;5;28;01mdef\u001b[39;00m\u001b[38;5;250m \u001b[39m\u001b[38;5;21m__init__\u001b[39m(\u001b[38;5;28mself\u001b[39m,attack\u001b[38;5;241m=\u001b[39m\u001b[38;5;241m0.1\u001b[39m,release\u001b[38;5;241m=\u001b[39m\u001b[38;5;241m0.9\u001b[39m,amp\u001b[38;5;241m=\u001b[39m\u001b[38;5;241m0.8\u001b[39m):\n\u001b[1;32m----> 5\u001b[0m     \u001b[38;5;28mself\u001b[39m\u001b[38;5;241m.\u001b[39menv \u001b[38;5;241m=\u001b[39m np\u001b[38;5;241m.\u001b[39mconcatenate((np\u001b[38;5;241m.\u001b[39mlinspace(\u001b[38;5;241m0\u001b[39m,amp,\u001b[38;5;28mint\u001b[39m(attack\u001b[38;5;241m*\u001b[39m\u001b[43mSRATE\u001b[49m)),np\u001b[38;5;241m.\u001b[39mlinspace(amp,\u001b[38;5;241m0\u001b[39m,\u001b[38;5;28mint\u001b[39m(release\u001b[38;5;241m*\u001b[39mSRATE))))\n\u001b[0;32m      6\u001b[0m     \u001b[38;5;28mself\u001b[39m\u001b[38;5;241m.\u001b[39mframe \u001b[38;5;241m=\u001b[39m \u001b[38;5;241m0\u001b[39m\n",
      "\u001b[1;31mNameError\u001b[0m: name 'SRATE' is not defined"
     ]
    }
   ],
   "source": [
    "env = Env(attack=0.01, release=0.15, amp=0.2)\n",
    "\n",
    "\n",
    "varios = np.zeros(0)\n",
    "for i in range(12):\n",
    "    varios = np.append(varios,env.next())\n",
    "\n",
    "plt.plot(varios)"
   ]
  },
  {
   "cell_type": "code",
   "execution_count": 41,
   "metadata": {},
   "outputs": [],
   "source": [
    "class Note:\n",
    "    def __init__(self,freq=440.0,attack=0.1,release=0.9,amp=0.8):\n",
    "        self.osc = Osc(freq)\n",
    "        self.env = Env(attack,release,amp)\n",
    "\n",
    "    def next(self):\n",
    "        env = self.env.next()\n",
    "        if env is None:\n",
    "            return None\n",
    "        return self.osc.next()*env"
   ]
  },
  {
   "cell_type": "code",
   "execution_count": 42,
   "metadata": {},
   "outputs": [],
   "source": [
    "# stream de salida con callBack\n",
    "input = None\n",
    "def callback(outdata, frames, time, status):\n",
    "    if status: print(status)\n",
    "    if input:    \n",
    "        s = input.next()\n",
    "        s = np.float32(s)\n",
    "    else:\n",
    "        s = np.zeros(CHUNK,dtype=np.float32)\n",
    "    outdata[:] = s.reshape(-1, 1)\n",
    "\n",
    "# stream de salida con callBack\n",
    "stream = sd.OutputStream(samplerate=SRATE, callback=callback, blocksize=CHUNK)\n",
    "stream.start()\n"
   ]
  },
  {
   "cell_type": "code",
   "execution_count": null,
   "metadata": {},
   "outputs": [],
   "source": []
  },
  {
   "cell_type": "code",
   "execution_count": null,
   "metadata": {},
   "outputs": [],
   "source": []
  },
  {
   "cell_type": "code",
   "execution_count": null,
   "metadata": {},
   "outputs": [],
   "source": []
  },
  {
   "cell_type": "code",
   "execution_count": null,
   "metadata": {},
   "outputs": [],
   "source": []
  },
  {
   "cell_type": "code",
   "execution_count": null,
   "metadata": {},
   "outputs": [
    {
     "name": "stdout",
     "output_type": "stream",
     "text": [
      "beta  index\n",
      "beta  index\n",
      "beta  index\n"
     ]
    }
   ],
   "source": [
    "# inicialización de la ventanas \n",
    "root=Tk()\n",
    "# Caja de texto\n",
    "text = Text(root,height=6,width=60)\n",
    "text.pack(side=BOTTOM)\n",
    "text.insert(INSERT,\"Press 'm/M' to modify FM, and 'b/B' to modify Beta\\n\")\n",
    "\n",
    "# Inicialización de oscilador FM\n",
    "fm_osc = OscFM(fc=220, fm=100, beta=0.5)\n",
    "\n",
    "# call back para la pulsación de teclas\n",
    "def key_down(event):\n",
    "    global input, fm_osc  # conexión con sounddevice y oscilador FM\n",
    "    if event.char == 'b':\n",
    "        fm_osc.set_beta(fm_osc.get_beta() * 0.9)\n",
    "        print(f'Beta decreased: {fm_osc.get_beta()}')\n",
    "    elif event.char == 'B':\n",
    "        fm_osc.set_beta(fm_osc.get_beta() * 1.1)\n",
    "        print(f'Beta increased: {fm_osc.get_beta()}')\n",
    "    elif event.char == 'm':\n",
    "        fm_osc.set_fm(fm_osc.get_fm() * 0.9)\n",
    "        print(f'FM frequency decreased: {fm_osc.get_fm()}')\n",
    "    elif event.char == 'M':\n",
    "        fm_osc.set_fm(fm_osc.get_fm() * 1.1)\n",
    "        print(f'FM frequency increased: {fm_osc.get_fm()}')\n",
    "\n",
    "# enlace de la pulsación de teclas con la función key_down\n",
    "text.bind('<Key>', key_down)\n",
    "\n",
    "\n",
    "# arrancamos todo!!\n",
    "root.mainloop()\n",
    "# ejecución bloqueada hasta que se cierre ventana\n",
    "\n",
    "# limpieza..\n",
    "stream.stop()\n",
    "stream.close()"
   ]
  },
  {
   "cell_type": "code",
   "execution_count": 36,
   "metadata": {},
   "outputs": [
    {
     "data": {
      "text/plain": [
       "<module 'osc' from 'd:\\\\AA-VIC\\\\MUS\\\\practicas\\\\practica2\\\\osc.py'>"
      ]
     },
     "execution_count": 36,
     "metadata": {},
     "output_type": "execute_result"
    }
   ],
   "source": [
    "import importlib\n",
    "import osc\n",
    "import oscFM\n",
    "\n",
    "# Recargar módulos en caso de haberlos modificado\n",
    "importlib.reload(oscFM)\n",
    "importlib.reload(osc)"
   ]
  },
  {
   "cell_type": "code",
   "execution_count": 37,
   "metadata": {},
   "outputs": [
    {
     "data": {
      "text/plain": [
       "[<matplotlib.lines.Line2D at 0x1bcb0cc2030>]"
      ]
     },
     "execution_count": 37,
     "metadata": {},
     "output_type": "execute_result"
    },
    {
     "data": {
      "image/png": "[encoded data removed]",
      "text/plain": [
       "<Figure size 640x480 with 1 Axes>"
      ]
     },
     "metadata": {},
     "output_type": "display_data"
    }
   ],
   "source": [
    "from oscFM import *\n",
    "\n",
    "# oscilador FM    \n",
    "o = OscFM(fc=20,fm=1000,beta=0.1)\n",
    "\n",
    "# concatenamos 3 chunks y dibujamos\n",
    "sgn = np.zeros(0)\n",
    "for i in range(3):\n",
    "    sgn = np.concatenate((sgn,o.next()))\n",
    "plt.plot(sgn)"
   ]
  },
  {
   "cell_type": "code",
   "execution_count": 38,
   "metadata": {},
   "outputs": [],
   "source": [
    "# también podemos hacerlo sonar\n",
    "from oscFM import *\n",
    "import sounddevice as sd\n",
    "# oscilador FM    \n",
    "o = OscFM(amp=0.2,fc=220,fm=1000,beta=0.1)\n",
    "\n",
    "# concatenamos 30 chunks y hacemos sonar \n",
    "# \n",
    "sgn = np.zeros(0)\n",
    "for i in range(100): # 100*CHUNK = 102400; 102400/SRATE = 2.13 segundos\n",
    "    sgn = np.concatenate((sgn,o.next()))\n",
    "\n",
    "sd.play(sgn)"
   ]
  }
 ],
 "metadata": {
  "kernelspec": {
   "display_name": "Python 3",
   "language": "python",
   "name": "python3"
  },
  "language_info": {
   "codemirror_mode": {
    "name": "ipython",
    "version": 3
   },
   "file_extension": ".py",
   "mimetype": "text/x-python",
   "name": "python",
   "nbconvert_exporter": "python",
   "pygments_lexer": "ipython3",
   "version": "3.12.6"
  }
 },
 "nbformat": 4,
 "nbformat_minor": 2
}
