{
 "cells": [
  {
   "cell_type": "code",
   "execution_count": 38,
   "metadata": {},
   "outputs": [
    {
     "name": "stdout",
     "output_type": "stream",
     "text": [
      "Requirement already satisfied: mido in c:\\users\\pilotes\\appdata\\local\\packages\\pythonsoftwarefoundation.python.3.11_qbz5n2kfra8p0\\localcache\\local-packages\\python311\\site-packages (1.3.3)\n",
      "Requirement already satisfied: packaging in c:\\users\\pilotes\\appdata\\local\\packages\\pythonsoftwarefoundation.python.3.11_qbz5n2kfra8p0\\localcache\\local-packages\\python311\\site-packages (from mido) (24.2)\n"
     ]
    },
    {
     "name": "stderr",
     "output_type": "stream",
     "text": [
      "\n",
      "[notice] A new release of pip is available: 24.0 -> 25.0.1\n",
      "[notice] To update, run: C:\\Users\\Pilotes\\AppData\\Local\\Microsoft\\WindowsApps\\PythonSoftwareFoundation.Python.3.11_qbz5n2kfra8p0\\python.exe -m pip install --upgrade pip\n"
     ]
    }
   ],
   "source": [
    "!pip install mido"
   ]
  },
  {
   "cell_type": "code",
   "execution_count": 39,
   "metadata": {},
   "outputs": [],
   "source": [
    "#%% librerías y constantes necesarias\n",
    "import numpy as np         \n",
    "import sounddevice as sd       \n",
    "import matplotlib.pyplot as plt\n",
    "from tkinter import *\n",
    "\n",
    "SRATE, CHUNK = 48000, 1024"
   ]
  },
  {
   "cell_type": "code",
   "execution_count": 40,
   "metadata": {},
   "outputs": [
    {
     "name": "stdout",
     "output_type": "stream",
     "text": [
      "Overwriting osc.py\n"
     ]
    }
   ],
   "source": [
    "%%writefile osc.py\n",
    "\n",
    "from consts import *\n",
    "import numpy as np         \n",
    "import sounddevice as sd       \n",
    "import matplotlib.pyplot as plt\n",
    "\n",
    "class Osc:\n",
    "    def __init__(self,freq=440.0,amp=1.0,phase=0.0):\n",
    "        self.freq = freq\n",
    "        self.amp = amp\n",
    "        self.phase = phase\n",
    "        self.frame = 0\n",
    "\n",
    "    def next(self):    \n",
    "        out = self.amp*np.sin(2*np.pi*(np.arange(self.frame,self.frame+CHUNK))*self.freq/SRATE)\n",
    "        self.frame += CHUNK\n",
    "        return out"
   ]
  },
  {
   "cell_type": "code",
   "execution_count": 41,
   "metadata": {},
   "outputs": [
    {
     "name": "stdout",
     "output_type": "stream",
     "text": [
      "Overwriting oscFM.py\n"
     ]
    }
   ],
   "source": [
    "%%writefile oscFM.py\n",
    "\n",
    "import numpy as np   \n",
    "from osc import *\n",
    "import matplotlib.pyplot as plt\n",
    "from consts import *\n",
    "\n",
    "class OscFM:\n",
    "    def __init__(self,fc=110.0,amp=1.0,fm=6.0, beta=1.0):\n",
    "        self.fc = fc\n",
    "        self.amp = amp\n",
    "        self.fm = fm\n",
    "        self.beta = beta\n",
    "        self.frame = 0\n",
    "\n",
    "        # moduladora = βsin(2πfm)\n",
    "        self.mod = Osc(freq=fm,amp=beta)\n",
    "        \n",
    "    def next(self):  \n",
    "        # sin(2πfc+mod)  \n",
    "        # sacamos el siguiente chunk de la moduladora\n",
    "        mod = self.mod.next()\n",
    "\n",
    "        # soporte para el chunk de salida\n",
    "        sample = np.arange(self.frame,self.frame+CHUNK)        \n",
    "        # aplicamos formula\n",
    "        out =  self.amp*np.sin(2*np.pi*self.fc*sample/SRATE + mod)\n",
    "        self.frame += CHUNK\n",
    "        return out \n",
    "\n",
    "    def setBeta(self,beta):\n",
    "        self.beta = beta\n",
    "        self.mod.amp = beta\n",
    "\n",
    "    def setFm(self,fm):\n",
    "        self.fm = fm\n",
    "        self.mod.freq = fm\n",
    "\n",
    "    def getBeta(self):\n",
    "        return self.beta    \n",
    "\n",
    "    def getFm(self):\n",
    "        return self.fm\n",
    "\n",
    "        "
   ]
  },
  {
   "cell_type": "code",
   "execution_count": 42,
   "metadata": {},
   "outputs": [
    {
     "name": "stdout",
     "output_type": "stream",
     "text": [
      "Overwriting env.py\n"
     ]
    }
   ],
   "source": [
    "%%writefile env.py\n",
    "\n",
    "import numpy as np   \n",
    "import matplotlib.pyplot as plt\n",
    "from consts import *\n",
    "\n",
    "# Lo mas común es utilizar tiempos en el eje X para definir envolventes\n",
    "# método para convertir tiempo a frames\n",
    "def timeToFrame(t): return round(t*SRATE)\n",
    "\n",
    "class Env:\n",
    "    # points = [(t0,v0),(t1,v1),(t2,v2),...] valores de la envolvente en instantes de tiempo\n",
    "    def __init__(self,points,xAxis='samples'):\n",
    "        if points[0][0]!=0: # el primer tiempo tiene que ser 0\n",
    "                            # podríamos autocompletar con (0,0) pero mejor dar error\n",
    "            raise Exception(f'Bad defined env: initial point {points[0]}')\n",
    "\n",
    "        # si los valores de x están en tiempo traducimos samples\n",
    "        if xAxis=='time': # si está en frames en vez de tiempo convertimos a tiempos\n",
    "            points = [(timeToFrame(x),y) for (x,y) in points]\n",
    "\n",
    "        # construimos la envolvente generando segmentos entre los puntos dados\n",
    "        self.env = np.zeros(0)        \n",
    "        (x0,y0) = points[0]  # punto inicial\n",
    "        for (x,y) in points[1:]:\n",
    "            self.env = np.concatenate((\n",
    "                self.env, \n",
    "                np.linspace(y0,y,x-x0+1)[:-1] # generamos x-x0+1 puntos y luego descartamos el último \n",
    "                ))                            # que vuelve a generarse en el siguiente segmento\n",
    "                                              # así evitamos \"meseta\" entre 2 puntos  \n",
    "            (x0,y0) = (x,y) # nuevo punto de origen\n",
    "        \n",
    "\n",
    "        # una vez generada la envolvente, la extendemos hasta completar el último chunk\n",
    "        # con el último valor self.last: mantiene ese valor hasta el final del chunk\n",
    "        # Así la longitud de la envolvente es un múltiplo de CHUNK\n",
    "        # (Esto evita evita errores al multiplicar arrays en numpy)        \n",
    "        restFrames = CHUNK - (points[-1][0]-points[0][0]) % CHUNK  \n",
    "        self.env = np.concatenate((self.env, np.full(restFrames,points[-1][1])))        \n",
    "        #restFrames = CHUNK - (points[-1][0]-points[0][0]) % CHUNK  \n",
    "        #self.env = np.concatenate((self.env, np.full(restFrames,self.last)))        \n",
    "\n",
    "        # frame actual \n",
    "        self.frame = 0\n",
    "        \n",
    "        # la envolvente se extiende indefinidamente con el ultimo valor \n",
    "        # no hace falta devolver chunks con ese valor por la sobrecarga del \n",
    "        # operador * en numpy: escalar*array o array*array\n",
    "        self.last = self.env[-1]\n",
    "\n",
    "    # método next del generador de señal: devuelve array de tamaño CHUNK o valor cte\n",
    "    def next(self):\n",
    "        # devolvemos chuncks mientras queda envolvente\n",
    "        if self.frame<self.env.shape[0]:\n",
    "            out = self.env[self.frame:self.frame+CHUNK]\n",
    "            self.frame += CHUNK\n",
    "            return out\n",
    "        else: # y la última muestra cuando no quedan\n",
    "            return np.array([self.last])\n",
    "\n",
    "    # reseteo del frame en cualquier momento\n",
    "    # será util después cuando esté sonando una nota y vuelva a lanzarse:\n",
    "    # se para la envolvente actual y se reinicia\n",
    "    def reset(self):\n",
    "        self.frame = 0        "
   ]
  },
  {
   "cell_type": "code",
   "execution_count": 43,
   "metadata": {},
   "outputs": [
    {
     "name": "stdout",
     "output_type": "stream",
     "text": [
      "Overwriting consts.py\n"
     ]
    }
   ],
   "source": [
    "%%writefile consts.py\n",
    "\n",
    "# para todo el proyecto (no cambian)\n",
    "SRATE = 48000 # frecuencia de muestreo\n",
    "CHUNK = 1024  # tamaño de los CHUNKs\n",
    "\n",
    "# mapeo de teclas del ordenador a notas en el piano\n",
    "# utilizamos '.' para los sostenidos\n",
    "teclas = \"zsxdcvgbhnjmq2w3er5t6y7u\"  # 2 de teclas filas \n",
    "notas =  \"C.D.EF.G.A.Bc.d.ef.g.a.b\"  # mapeadas a 2 octavas\n",
    "#         octava baja||octava alta\n",
    "\n",
    "\n",
    "# frecuencias de las notas asocidas a las teclas del teclado\n",
    "# partimos del la=220Hz y generamos frecuencias de escala temperada\n",
    "pitchs = [ 220*2.0**(i/12.0) for i in range(len(teclas))] \n",
    "\n",
    "# frecuencias asociadas a las notas midi de 0 a 127\n",
    "# El LA central es la nota midi 70 y su frecuencia es 440\n",
    "# contruimos hacia abajo y hacia arriba el resto de notas\n",
    "freqsMidi = [ 440*2.0**(i/12.0) for i in range(-69,59)]\n"
   ]
  },
  {
   "cell_type": "code",
   "execution_count": 44,
   "metadata": {},
   "outputs": [
    {
     "name": "stdout",
     "output_type": "stream",
     "text": [
      "Overwriting slider.py\n"
     ]
    }
   ],
   "source": [
    "%%writefile slider.py\n",
    "\n",
    "import numpy as np    \n",
    "import matplotlib.pyplot as plt\n",
    "from tkinter import *\n",
    "\n",
    "class Slider:\n",
    "    def __init__(self,tk,name='a',ini=0.2,from_=0.0,to=1.0,step=0.1,orient=HORIZONTAL,packSide=TOP):\n",
    "        self.val = DoubleVar() # para guardar y modificar el valor del parámetro en cuestión\n",
    "        self.val.set(ini)\n",
    "                \n",
    "        self.scale = Scale(tk, label=name,\n",
    "            from_=from_, to=to, resolution=step, \n",
    "            orient=orient, width=30,sliderlength=10, length=300, bd=6,\n",
    "            variable = self.val)\n",
    "            \n",
    "        self.scale.pack(side=packSide)\n",
    "\n",
    "    def get(self):\n",
    "        return self.val.get()"
   ]
  },
  {
   "cell_type": "code",
   "execution_count": 45,
   "metadata": {},
   "outputs": [
    {
     "name": "stdout",
     "output_type": "stream",
     "text": [
      "Overwriting adsr.py\n"
     ]
    }
   ],
   "source": [
    "%%writefile adsr.py\n",
    "\n",
    "import numpy as np   \n",
    "import matplotlib.pyplot as plt\n",
    "from consts import *\n",
    "from env import *\n",
    "\n",
    "class ADSR:\n",
    "    def __init__(self,att,dec,sus,rel):\n",
    "        self.act = Env([(0,0),(att,1),(att+dec,sus)],xAxis='time')\n",
    "        self.sus = sus\n",
    "        self.rel = Env([(0,sus),(rel,0)],xAxis='time')\n",
    "        self.state = 'off' # act, rel\n",
    "        self.last = 0\n",
    "\n",
    "    def next(self):\n",
    "        if self.state=='off': \n",
    "            self.last = 0\n",
    "            return 0\n",
    "        elif self.state=='act':             \n",
    "            out = self.act.next()            \n",
    "            self.last = out[-1]\n",
    "            return out\n",
    "        elif self.state=='rel': \n",
    "            out = self.rel.next()   \n",
    "            self.last = out[-1]\n",
    "            # cuando se acaba el release pasa a estado off           \n",
    "            if self.last==0:\n",
    "                self.state = 'off'            \n",
    "            return out\n",
    "\n",
    "    def start(self):\n",
    "        self.state='act'    \n",
    "        self.act.reset()\n",
    "\n",
    "    def release(self):        \n",
    "        self.rel.reset()\n",
    "        self.state='rel'    \n"
   ]
  },
  {
   "cell_type": "code",
   "execution_count": 46,
   "metadata": {},
   "outputs": [
    {
     "name": "stdout",
     "output_type": "stream",
     "text": [
      "Overwriting synthFM.py\n"
     ]
    }
   ],
   "source": [
    "%%writefile synthFM.py\n",
    "\n",
    "import numpy as np   \n",
    "import matplotlib.pyplot as plt\n",
    "from consts import *\n",
    "from tkinter import *\n",
    "from adsr import *\n",
    "from oscFM import *\n",
    "\n",
    "class SynthFM:\n",
    "    def __init__(self,\n",
    "                fc=110,amp=1.0,ratio=0.5, beta=5.0,   # parámetros del generador FM\n",
    "                attack=0.01,decay=0.02, sustain=0.3,release=1.0): # parámetros del ADSR        \n",
    "        self.fc = fc\n",
    "        self.amp =  amp\n",
    "        self.ratio = ratio\n",
    "        self.fm = self.ratio*self.fc # fm en función de fc y ratio\n",
    "        self.beta = beta\n",
    "        \n",
    "        self.signal = OscFM(self.fc,amp=self.amp,fm=self.fm,beta=self.beta) # generador\n",
    "        self.adsr = ADSR(attack,decay,sustain,release)  # envolvente adsr\n",
    "\n",
    "        # se dispara automáticamente\n",
    "        self.state = 'on' # activo\n",
    "        self.adsr.start() # adsr activa\n",
    "\n",
    "    def start(self):\n",
    "        self.adsr.start()\n",
    "\n",
    "    # siguiente chunk del generador\n",
    "    def next(self): \n",
    "        out = self.signal.next()*self.adsr.next()\n",
    "        if self.adsr.state=='off': # cuando acaba el adsr por completo (incluido el release)\n",
    "            self.state = 'off'     # el sinte tb acaba de producir señal\n",
    "        return out     \n",
    "    \n",
    "    # el noteOff del sinte activa el release del ADSR\n",
    "    def noteOff(self):\n",
    "        #print('release')\n",
    "        self.adsr.release()\n",
    "\n",
    "    def setAmp(self,val): \n",
    "        self.amp = val \n",
    "\n",
    "    def setFm(self,val): \n",
    "        self.fm = val  \n",
    "\n",
    "    def setBeta(self,val): \n",
    "        self.beta = val\n"
   ]
  },
  {
   "cell_type": "code",
   "execution_count": 55,
   "metadata": {},
   "outputs": [],
   "source": [
    "import numpy as np\n",
    "import matplotlib.pyplot as plt\n",
    "from consts import *\n",
    "from tkinter import *\n",
    "from slider import *\n",
    "from adsr import *\n",
    "from synthFM import *\n",
    "\n",
    "class Instrument:\n",
    "    def __init__(self, tk, name=\"FM synthetizer\", amp=0.2, ratio=3, beta=0.6): \n",
    "        frame = LabelFrame(tk, text=name, bg=\"#808090\")\n",
    "        frame.pack(side=LEFT)\n",
    "        # Synth params con sus sliders\n",
    "        frameOsc = LabelFrame(frame, text=\"FM oscillator\", bg=\"#808090\")\n",
    "        frameOsc.pack(side=LEFT, fill=\"both\", expand=\"yes\")\n",
    "        \n",
    "        self.ampS = Slider(frameOsc, 'amp', packSide=TOP, ini=amp, from_=0.0, to=1.0, step=0.05) \n",
    "        self.ratioS = Slider(frameOsc, 'ratio', packSide=TOP, ini=ratio, from_=0.0, to=20.0, step=0.5)\n",
    "        self.betaS = Slider(frameOsc, 'beta', packSide=TOP, ini=beta, from_=0.0, to=10.0, step=0.05) \n",
    "        \n",
    "        # una ventana de texto interactiva para poder lanzar notas con el teclado del ordenador\n",
    "        text = Text(frameOsc, height=4, width=40)\n",
    "        text.pack(side=BOTTOM)\n",
    "        text.bind('<KeyPress>', self.down)\n",
    "        text.bind('<KeyRelease>', self.up)\n",
    "\n",
    "        # ADSR params con sus sliders\n",
    "        frameADSR = LabelFrame(frame, text=\"ADSR\", bg=\"#808090\")\n",
    "        frameADSR.pack(side=LEFT, fill=\"both\", expand=\"yes\")\n",
    "        self.attackS = Slider(frameADSR, 'attack', ini=0.01, from_=0.0, to=0.5, step=0.005, orient=HORIZONTAL, packSide=TOP) \n",
    "        self.decayS = Slider(frameADSR, 'decay', ini=0.01, from_=0.0, to=0.5, step=0.005, orient=HORIZONTAL, packSide=TOP)\n",
    "        self.sustainS = Slider(frameADSR, 'sustain', ini=0.4, from_=0.0, to=1.0, step=0.01, orient=HORIZONTAL, packSide=TOP) \n",
    "        self.releaseS = Slider(frameADSR, 'release', ini=0.5, from_=0.0, to=4.0, step=0.05, orient=HORIZONTAL, packSide=TOP) \n",
    "\n",
    "        # canales indexados por la nota de lanzamiento -> solo una nota del mismo valor\n",
    "        self.channels = dict()        \n",
    "        self.tails = dict()\n",
    "\n",
    "    # obtenemos todos los parámetros del sinte (puede servir para crear presets)\n",
    "    def getConfig(self):\n",
    "        return (self.ampS.get(), self.ratioS.get(), self.betaS.get(),\n",
    "                self.attackS.get(), self.decayS.get(), self.sustainS.get(),\n",
    "                self.releaseS.get())\n",
    "\n",
    "    # activación de nota\n",
    "    def noteOn(self, midiNote):\n",
    "        # si está el dict de canales apagamos nota actual con envolvente de fadeout\n",
    "        # y guardamos en tails. El next devolverá este tail y luego comenzará la nota\n",
    "        if midiNote in self.channels:                   \n",
    "            lastAmp = self.channels[midiNote].adsr.last # ultimo valor de la envolvente: inicio del fadeOut\n",
    "            env = Env([(0, lastAmp), (CHUNK, 0)]).next()   # envolvente             \n",
    "            signal = self.channels[midiNote].next()     # señal          \n",
    "            self.tails[midiNote] = env * signal           # diccionario de tails (notas apagadas) \n",
    "\n",
    "        # generamos un nuevo synth en un canal indexado con notaMidi\n",
    "        # con los parámetros actuales del synth\n",
    "        freq = freqsMidi[midiNote]\n",
    "        self.channels[midiNote] = SynthFM(\n",
    "                fc=freq,\n",
    "                amp=self.ampS.get(), ratio=self.ratioS.get(), beta=self.betaS.get(),\n",
    "                attack=self.attackS.get(), decay=self.decayS.get(),\n",
    "                sustain=self.sustainS.get(), release=self.releaseS.get())\n",
    "\n",
    "    # apagar nota -> propagamos noteOff al synth, que se encargará de hacer el release\n",
    "    def noteOff(self, midiNote):\n",
    "        if midiNote in self.channels: # está el dict, release\n",
    "            self.channels[midiNote].noteOff()\n",
    "\n",
    "    # lectura de teclas de teclado como eventos tkinter\n",
    "    def down(self, event):\n",
    "        c = event.keysym\n",
    "\n",
    "        # tecla \"panic\" -> apagamos todos los sintes de golpe!\n",
    "        if c == '0': \n",
    "            self.stop()            \n",
    "        elif c in teclas:\n",
    "            midiNote = 48 + teclas.index(c) # buscamos indice y trasnportamos a C3 (48 en midi)        \n",
    "            print(f'noteOn {midiNote}')\n",
    "            self.noteOn(midiNote)         # arrancamos noteOn con el instrumento \n",
    "            \n",
    "    def up(self, event):\n",
    "        c = event.keysym\n",
    "        if c in teclas:\n",
    "            midiNote = 48 + teclas.index(c) # buscamos indice y hacemos el noteOff\n",
    "            print(f'noteOff {midiNote}')\n",
    "            self.noteOff(midiNote)\n",
    "\n",
    "    # siguiente chunck del generador: sumamos señal de canales y hacemos limpia de silenciados\n",
    "    def next(self):\n",
    "        out = np.zeros(CHUNK)          \n",
    "        for c in list(self.channels):            # convertimos las keys a lista para mantener la lista de claves original\n",
    "            if self.channels[c].state == 'off':  # si no, modificamos diccionario en el bucle de recorrido de claves -> error \n",
    "                del self.channels[c]\n",
    "            else: # si la nota está el diccionario de tails devolvemos el fadeout generado en noteOn y elminamos tail\n",
    "                if c in self.tails:                  \n",
    "                    out += self.tails[c]\n",
    "                    del self.tails[c]\n",
    "                else:\n",
    "                    out += self.channels[c].next()\n",
    "        return out        \n",
    "\n",
    "    # boton del pánico\n",
    "    def stop(self):\n",
    "        self.channels = dict() # delegamos en el garbage collector"
   ]
  },
  {
   "cell_type": "code",
   "execution_count": 56,
   "metadata": {},
   "outputs": [
    {
     "data": {
      "text/plain": [
       "[<matplotlib.lines.Line2D at 0x270ed963e90>]"
      ]
     },
     "execution_count": 56,
     "metadata": {},
     "output_type": "execute_result"
    },
    {
     "data": {
      "image/png": "[encoded data removed]",
      "text/plain": [
       "<Figure size 640x480 with 1 Axes>"
      ]
     },
     "metadata": {},
     "output_type": "display_data"
    }
   ],
   "source": [
    "from instrument import *\n",
    "import sounddevice as sd\n",
    "import matplotlib.pyplot as plt\n",
    "from tkinter import *\n",
    "\n",
    "tk = Tk()\n",
    "ins = Instrument(tk)\n",
    "ins.amp = 1\n",
    "ins.sustain=0.8\n",
    "\n",
    "ins.noteOn(60)\n",
    "signal = np.zeros(0)\n",
    "for i in range(25):\n",
    "    signal = np.concatenate((signal,ins.next()))\n",
    "\n",
    "N = 1024\n",
    "s = signal[-N:]\n",
    "\n",
    "ins.noteOn(70)\n",
    "signal2 = np.zeros(0)\n",
    "for i in range(25):\n",
    "    signal2 = np.concatenate((signal2,ins.next()))\n",
    "\n",
    "#s = np.concatenate((s,signal2[:N]))\n",
    "\n",
    "tot = np.concatenate((signal,signal2))\n",
    "sd.play(tot)\n",
    "sd.wait()\n",
    "\n",
    "plt.plot(s)    \n",
    "\n"
   ]
  },
  {
   "cell_type": "code",
   "execution_count": null,
   "metadata": {},
   "outputs": [
    {
     "name": "stdout",
     "output_type": "stream",
     "text": [
      "Requirement already satisfied: mido in c:\\users\\pilotes\\desktop\\uni\\.venv\\lib\\site-packages (1.3.3)\n",
      "Requirement already satisfied: packaging in c:\\users\\pilotes\\desktop\\uni\\.venv\\lib\\site-packages (from mido) (24.2)\n"
     ]
    },
    {
     "ename": "KeyboardInterrupt",
     "evalue": "",
     "output_type": "error",
     "traceback": [
      "\u001b[1;31m---------------------------------------------------------------------------\u001b[0m",
      "\u001b[1;31mKeyboardInterrupt\u001b[0m                         Traceback (most recent call last)",
      "Cell \u001b[1;32mIn[63], line 42\u001b[0m\n\u001b[0;32m     39\u001b[0m sequencer\u001b[38;5;241m.\u001b[39madd_instrument(\u001b[38;5;241m4\u001b[39m, trombone)   \u001b[38;5;66;03m# Canal 4 para el trombón\u001b[39;00m\n\u001b[0;32m     41\u001b[0m \u001b[38;5;66;03m# Reproducir un archivo MIDI\u001b[39;00m\n\u001b[1;32m---> 42\u001b[0m \u001b[43msequencer\u001b[49m\u001b[38;5;241;43m.\u001b[39;49m\u001b[43mplay_midi_file\u001b[49m\u001b[43m(\u001b[49m\u001b[38;5;124;43m'\u001b[39;49m\u001b[38;5;124;43mpirates.mid\u001b[39;49m\u001b[38;5;124;43m'\u001b[39;49m\u001b[43m)\u001b[49m\n",
      "Cell \u001b[1;32mIn[63], line 16\u001b[0m, in \u001b[0;36mMidiSequencer.play_midi_file\u001b[1;34m(self, file_path)\u001b[0m\n\u001b[0;32m     14\u001b[0m \u001b[38;5;28;01mdef\u001b[39;00m\u001b[38;5;250m \u001b[39m\u001b[38;5;21mplay_midi_file\u001b[39m(\u001b[38;5;28mself\u001b[39m, file_path):\n\u001b[0;32m     15\u001b[0m     mid \u001b[38;5;241m=\u001b[39m mido\u001b[38;5;241m.\u001b[39mMidiFile(file_path)\n\u001b[1;32m---> 16\u001b[0m \u001b[43m    \u001b[49m\u001b[38;5;28;43;01mfor\u001b[39;49;00m\u001b[43m \u001b[49m\u001b[43mmsg\u001b[49m\u001b[43m \u001b[49m\u001b[38;5;129;43;01min\u001b[39;49;00m\u001b[43m \u001b[49m\u001b[43mmid\u001b[49m\u001b[38;5;241;43m.\u001b[39;49m\u001b[43mplay\u001b[49m\u001b[43m(\u001b[49m\u001b[43m)\u001b[49m\u001b[43m:\u001b[49m\n\u001b[0;32m     17\u001b[0m \u001b[43m        \u001b[49m\u001b[38;5;28;43;01mif\u001b[39;49;00m\u001b[43m \u001b[49m\u001b[43mmsg\u001b[49m\u001b[38;5;241;43m.\u001b[39;49m\u001b[43mtype\u001b[49m\u001b[43m \u001b[49m\u001b[38;5;241;43m==\u001b[39;49m\u001b[43m \u001b[49m\u001b[38;5;124;43m'\u001b[39;49m\u001b[38;5;124;43mnote_on\u001b[39;49m\u001b[38;5;124;43m'\u001b[39;49m\u001b[43m:\u001b[49m\n\u001b[0;32m     18\u001b[0m \u001b[43m            \u001b[49m\u001b[43mchannel\u001b[49m\u001b[43m \u001b[49m\u001b[38;5;241;43m=\u001b[39;49m\u001b[43m \u001b[49m\u001b[43mmsg\u001b[49m\u001b[38;5;241;43m.\u001b[39;49m\u001b[43mchannel\u001b[49m\n",
      "File \u001b[1;32mc:\\Users\\Pilotes\\Desktop\\uni\\.venv\\Lib\\site-packages\\mido\\midifiles\\midifiles.py:433\u001b[0m, in \u001b[0;36mMidiFile.play\u001b[1;34m(self, meta_messages, now)\u001b[0m\n\u001b[0;32m    430\u001b[0m duration_to_next_event \u001b[38;5;241m=\u001b[39m input_time \u001b[38;5;241m-\u001b[39m playback_time\n\u001b[0;32m    432\u001b[0m \u001b[38;5;28;01mif\u001b[39;00m duration_to_next_event \u001b[38;5;241m>\u001b[39m \u001b[38;5;241m0.0\u001b[39m:\n\u001b[1;32m--> 433\u001b[0m     time\u001b[38;5;241m.\u001b[39msleep(duration_to_next_event)\n\u001b[0;32m    435\u001b[0m \u001b[38;5;28;01mif\u001b[39;00m \u001b[38;5;28misinstance\u001b[39m(msg, MetaMessage) \u001b[38;5;129;01mand\u001b[39;00m \u001b[38;5;129;01mnot\u001b[39;00m meta_messages:\n\u001b[0;32m    436\u001b[0m     \u001b[38;5;28;01mcontinue\u001b[39;00m\n",
      "\u001b[1;31mKeyboardInterrupt\u001b[0m: "
     ]
    }
   ],
   "source": [
    "import sys\n",
    "!{sys.executable} -m pip install mido\n",
    "\n",
    "import mido\n",
    "\n",
    "class MidiSequencer:\n",
    "    def __init__(self):\n",
    "        self.instruments = {}\n",
    "\n",
    "    def add_instrument(self, channel, instrument):\n",
    "        self.instruments[channel] = instrument\n",
    "\n",
    "    def play_midi_file(self, file_path):\n",
    "        mid = mido.MidiFile(file_path)\n",
    "        for msg in mid.play():\n",
    "            if msg.type == 'note_on':\n",
    "                channel = msg.channel\n",
    "                if channel in self.instruments:\n",
    "                    self.instruments[channel].noteOn(msg.note)\n",
    "            elif msg.type == 'note_off':\n",
    "                channel = msg.channel\n",
    "                if channel in self.instruments:\n",
    "                    self.instruments[channel].noteOff(msg.note)\n",
    "\n",
    "# Crear instancias de instrumentos con distintos timbres\n",
    "piano = Instrument(tk, 'Piano', amp=0.2, ratio=3, beta=0.6)\n",
    "violin = Instrument(tk, 'Violin', amp=0.3, ratio=2, beta=0.5)\n",
    "cello = Instrument(tk, 'Cello', amp=0.4, ratio=2.5, beta=0.5)  # Chelo\n",
    "guitar = Instrument(tk, 'Guitar', amp=0.3, ratio=2, beta=0.4)  # Guitarra\n",
    "trombone = Instrument(tk, 'Trombone', amp=0.5, ratio=3, beta=0.7)  # Trombón\n",
    "\n",
    "# Crear el secuenciador MIDI y agregar los instrumentos a distintos canales\n",
    "sequencer = MidiSequencer()\n",
    "sequencer.add_instrument(0, piano)    # Canal 0 para el piano\n",
    "sequencer.add_instrument(1, violin)    # Canal 1 para el violín\n",
    "sequencer.add_instrument(2, cello)     # Canal 2 para el chelo\n",
    "sequencer.add_instrument(3, guitar)    # Canal 3 para la guitarra\n",
    "sequencer.add_instrument(4, trombone)   # Canal 4 para el trombón\n",
    "\n",
    "# Reproducir un archivo MIDI\n",
    "sequencer.play_midi_file('pirates.mid')"
   ]
  }
 ],
 "metadata": {
  "kernelspec": {
   "display_name": ".venv",
   "language": "python",
   "name": "python3"
  },
  "language_info": {
   "codemirror_mode": {
    "name": "ipython",
    "version": 3
   },
   "file_extension": ".py",
   "mimetype": "text/x-python",
   "name": "python",
   "nbconvert_exporter": "python",
   "pygments_lexer": "ipython3",
   "version": "3.11.9"
  }
 },
 "nbformat": 4,
 "nbformat_minor": 2
}
